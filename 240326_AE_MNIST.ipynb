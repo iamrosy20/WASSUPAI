{
  "nbformat": 4,
  "nbformat_minor": 0,
  "metadata": {
    "colab": {
      "provenance": [],
      "authorship_tag": "ABX9TyPYfyem4+R0Hyph2vMCFegr"
    },
    "kernelspec": {
      "name": "python3",
      "display_name": "Python 3"
    },
    "language_info": {
      "name": "python"
    }
  },
  "cells": [
    {
      "cell_type": "code",
      "execution_count": 16,
      "metadata": {
        "id": "A90J_Q78KkvZ"
      },
      "outputs": [],
      "source": [
        "from tensorflow.keras.datasets import mnist\n",
        "from tensorflow.keras.models import Model, Sequential\n",
        "from tensorflow.keras.optimizers import Adam, RMSprop\n",
        "import matplotlib.pyplot as plt\n",
        "from tensorflow.keras.layers import Dense, Input, Embedding, Flatten\n",
        "from tensorflow.keras.utils import to_categorical\n",
        "from tensorflow.keras.regularizers import l1"
      ]
    },
    {
      "cell_type": "code",
      "source": [
        "# Load dataset\n",
        "(x_train, y_train), (x_test, y_test) = mnist.load_data()"
      ],
      "metadata": {
        "id": "6CLDhNaALP54"
      },
      "execution_count": 6,
      "outputs": []
    },
    {
      "cell_type": "code",
      "source": [
        "# Scaling\n",
        "x_train1 = x_train.astype('float32') / 255\n",
        "x_test1 = x_test.astype('float32') / 255\n",
        "\n",
        "x_train = x_train1.reshape((60000, 28*28))\n",
        "x_test = x_test1.reshape((10000, 28*28))\n",
        "\n",
        "print(x_train.shape)\n",
        "print(x_test.shape)"
      ],
      "metadata": {
        "colab": {
          "base_uri": "https://localhost:8080/"
        },
        "id": "2RhJGNODLUYg",
        "outputId": "7125927c-53cf-4ec7-a889-e9ab1f7b5a58"
      },
      "execution_count": 8,
      "outputs": [
        {
          "output_type": "stream",
          "name": "stdout",
          "text": [
            "(60000, 784)\n",
            "(10000, 784)\n"
          ]
        }
      ]
    },
    {
      "cell_type": "code",
      "source": [
        "# Initilize AutoEncoder\n",
        "input_size = 784    # 28 * 28\n",
        "hidden_size = 128\n",
        "code_size = 32      # latent vector\n",
        "\n",
        "input_img = Input(shape=(input_size,))\n",
        "hidden_1 = Dense(hidden_size, activation='relu')(input_img)\n",
        "code = Dense(code_size, activation='relu')(hidden_1)\n",
        "hidden_2 = Dense(hidden_size, activation='relu')(code)\n",
        "output_img = Dense(input_size, activation='sigmoid')(hidden_2)\n",
        "\n",
        "autoencoder = Model(input_img, output_img)"
      ],
      "metadata": {
        "id": "Y-QXsYZmLrCX"
      },
      "execution_count": 9,
      "outputs": []
    },
    {
      "cell_type": "code",
      "source": [
        "# Fit the AutoEncoder\n",
        "autoencoder.compile(optimizer='adam', loss='mse')\n",
        "autoencoder.fit(x_train, x_train, epochs=3)"
      ],
      "metadata": {
        "colab": {
          "base_uri": "https://localhost:8080/"
        },
        "id": "xgA2I6owMQnB",
        "outputId": "9e837c89-0c6c-484c-a241-3ea8e63f45e2"
      },
      "execution_count": 10,
      "outputs": [
        {
          "output_type": "stream",
          "name": "stdout",
          "text": [
            "Epoch 1/3\n",
            "1875/1875 [==============================] - 17s 9ms/step - loss: 0.0248\n",
            "Epoch 2/3\n",
            "1875/1875 [==============================] - 28s 15ms/step - loss: 0.0128\n",
            "Epoch 3/3\n",
            "1875/1875 [==============================] - 23s 12ms/step - loss: 0.0113\n"
          ]
        },
        {
          "output_type": "execute_result",
          "data": {
            "text/plain": [
              "<keras.src.callbacks.History at 0x7ed6eb6e7610>"
            ]
          },
          "metadata": {},
          "execution_count": 10
        }
      ]
    },
    {
      "cell_type": "code",
      "source": [
        "# Predict the test set\n",
        "decoded_imgs = autoencoder.predict(x_test)\n",
        "decoded_imgs = decoded_imgs.reshape((10000, 28, 28))\n",
        "print(decoded_imgs.shape)"
      ],
      "metadata": {
        "colab": {
          "base_uri": "https://localhost:8080/"
        },
        "id": "3KXGkjHgMYiz",
        "outputId": "88f25df1-e304-4feb-f28c-b68bf79fa166"
      },
      "execution_count": 11,
      "outputs": [
        {
          "output_type": "stream",
          "name": "stdout",
          "text": [
            "313/313 [==============================] - 1s 3ms/step\n",
            "(10000, 28, 28)\n"
          ]
        }
      ]
    },
    {
      "cell_type": "code",
      "source": [
        "# Compare original images and decoded images\n",
        "n = 10\n",
        "plt.figure(figsize=(20, 4))\n",
        "for i in range(10):\n",
        "    ax = plt.subplot(2, n, i + 1)\n",
        "    plt.imshow(x_test1[i])\n",
        "    plt.title('original')\n",
        "    plt.gray()\n",
        "    ax.get_xaxis().set_visible(False)\n",
        "    ax.get_yaxis().set_visible(False)\n",
        "\n",
        "    ax = plt.subplot(2, n, i + 1 + n)\n",
        "    plt.imshow(decoded_imgs[i])\n",
        "    plt.title('reconstructed')\n",
        "    plt.gray()\n",
        "    ax.get_xaxis().set_visible(False)\n",
        "    ax.get_yaxis().set_visible(False)\n",
        "plt.show()"
      ],
      "metadata": {
        "colab": {
          "base_uri": "https://localhost:8080/",
          "height": 268
        },
        "id": "AeX74JriMsY3",
        "outputId": "24466175-d7b8-43e7-d34b-f15e904ff9bb"
      },
      "execution_count": 15,
      "outputs": [
        {
          "output_type": "display_data",
          "data": {
            "text/plain": [
              "<Figure size 2000x400 with 20 Axes>"
            ],
            "image/png": "[encoded data removed]"
          },
          "metadata": {}
        }
      ]
    },
    {
      "cell_type": "code",
      "source": [
        "# Classification with representation vector\n",
        "encoder = Model(inputs=input_img, outputs=code)     # only encoder\n",
        "x_train_encode = encoder.predict(x_train)\n",
        "x_test_encode = encoder.predict(x_test)\n",
        "print(x_train_encode.shape)"
      ],
      "metadata": {
        "colab": {
          "base_uri": "https://localhost:8080/"
        },
        "id": "kHtivPQIOT8W",
        "outputId": "46c02a92-6c17-44ce-dd48-8142da571e84"
      },
      "execution_count": 17,
      "outputs": [
        {
          "output_type": "stream",
          "name": "stdout",
          "text": [
            "1875/1875 [==============================] - 4s 2ms/step\n",
            "313/313 [==============================] - 1s 2ms/step\n",
            "(60000, 32)\n"
          ]
        }
      ]
    },
    {
      "cell_type": "code",
      "source": [
        "# One-hot encoding\n",
        "y_train_one_hot = to_categorical(y_train)\n",
        "y_test_one_hot = to_categorical(y_test)"
      ],
      "metadata": {
        "id": "gEDk8KBiPPfe"
      },
      "execution_count": 18,
      "outputs": []
    },
    {
      "cell_type": "code",
      "source": [
        "# Initialize FNN model\n",
        "model = Sequential()\n",
        "model.add(Dense(128, activation='relu', input_shape=(x_train_encode.shape[1],)))\n",
        "model.add(Dense(10, activation='softmax'))\n",
        "model.summary()"
      ],
      "metadata": {
        "colab": {
          "base_uri": "https://localhost:8080/"
        },
        "id": "dAXHtPUFOzqf",
        "outputId": "62bca2de-3c1d-4654-ef1a-0decf220b931"
      },
      "execution_count": 19,
      "outputs": [
        {
          "output_type": "stream",
          "name": "stdout",
          "text": [
            "Model: \"sequential\"\n",
            "_________________________________________________________________\n",
            " Layer (type)                Output Shape              Param #   \n",
            "=================================================================\n",
            " dense_4 (Dense)             (None, 128)               4224      \n",
            "                                                                 \n",
            " dense_5 (Dense)             (None, 10)                1290      \n",
            "                                                                 \n",
            "=================================================================\n",
            "Total params: 5514 (21.54 KB)\n",
            "Trainable params: 5514 (21.54 KB)\n",
            "Non-trainable params: 0 (0.00 Byte)\n",
            "_________________________________________________________________\n"
          ]
        }
      ]
    },
    {
      "cell_type": "code",
      "source": [
        "# Fit the FNN model\n",
        "model.compile(optimizer=RMSprop(learning_rate=0.001), loss='categorical_crossentropy', metrics=['accuracy'])\n",
        "history = model.fit(x_train_encode, y_train_one_hot, epochs=20, batch_size=128, validation_split=0.2)"
      ],
      "metadata": {
        "colab": {
          "base_uri": "https://localhost:8080/"
        },
        "id": "FNxWlwsxPYbb",
        "outputId": "1f418ab4-5810-4225-895a-22bd0ea0cab0"
      },
      "execution_count": 20,
      "outputs": [
        {
          "output_type": "stream",
          "name": "stdout",
          "text": [
            "Epoch 1/20\n",
            "375/375 [==============================] - 2s 3ms/step - loss: 0.7171 - accuracy: 0.7825 - val_loss: 0.3311 - val_accuracy: 0.9009\n",
            "Epoch 2/20\n",
            "375/375 [==============================] - 1s 3ms/step - loss: 0.3362 - accuracy: 0.8975 - val_loss: 0.2838 - val_accuracy: 0.9143\n",
            "Epoch 3/20\n",
            "375/375 [==============================] - 1s 3ms/step - loss: 0.2702 - accuracy: 0.9184 - val_loss: 0.2227 - val_accuracy: 0.9324\n",
            "Epoch 4/20\n",
            "375/375 [==============================] - 2s 5ms/step - loss: 0.2312 - accuracy: 0.9283 - val_loss: 0.2135 - val_accuracy: 0.9372\n",
            "Epoch 5/20\n",
            "375/375 [==============================] - 1s 3ms/step - loss: 0.2006 - accuracy: 0.9382 - val_loss: 0.1757 - val_accuracy: 0.9477\n",
            "Epoch 6/20\n",
            "375/375 [==============================] - 1s 3ms/step - loss: 0.1801 - accuracy: 0.9447 - val_loss: 0.1862 - val_accuracy: 0.9442\n",
            "Epoch 7/20\n",
            "375/375 [==============================] - 1s 3ms/step - loss: 0.1651 - accuracy: 0.9489 - val_loss: 0.1556 - val_accuracy: 0.9526\n",
            "Epoch 8/20\n",
            "375/375 [==============================] - 1s 3ms/step - loss: 0.1515 - accuracy: 0.9531 - val_loss: 0.1430 - val_accuracy: 0.9564\n",
            "Epoch 9/20\n",
            "375/375 [==============================] - 1s 2ms/step - loss: 0.1399 - accuracy: 0.9570 - val_loss: 0.1480 - val_accuracy: 0.9536\n",
            "Epoch 10/20\n",
            "375/375 [==============================] - 1s 3ms/step - loss: 0.1339 - accuracy: 0.9590 - val_loss: 0.1421 - val_accuracy: 0.9581\n",
            "Epoch 11/20\n",
            "375/375 [==============================] - 1s 3ms/step - loss: 0.1262 - accuracy: 0.9614 - val_loss: 0.1430 - val_accuracy: 0.9553\n",
            "Epoch 12/20\n",
            "375/375 [==============================] - 1s 3ms/step - loss: 0.1199 - accuracy: 0.9631 - val_loss: 0.1169 - val_accuracy: 0.9632\n",
            "Epoch 13/20\n",
            "375/375 [==============================] - 1s 3ms/step - loss: 0.1139 - accuracy: 0.9655 - val_loss: 0.1210 - val_accuracy: 0.9632\n",
            "Epoch 14/20\n",
            "375/375 [==============================] - 1s 3ms/step - loss: 0.1100 - accuracy: 0.9662 - val_loss: 0.1115 - val_accuracy: 0.9663\n",
            "Epoch 15/20\n",
            "375/375 [==============================] - 2s 4ms/step - loss: 0.1063 - accuracy: 0.9669 - val_loss: 0.1148 - val_accuracy: 0.9656\n",
            "Epoch 16/20\n",
            "375/375 [==============================] - 2s 5ms/step - loss: 0.1025 - accuracy: 0.9682 - val_loss: 0.1155 - val_accuracy: 0.9671\n",
            "Epoch 17/20\n",
            "375/375 [==============================] - 1s 3ms/step - loss: 0.0986 - accuracy: 0.9700 - val_loss: 0.1056 - val_accuracy: 0.9691\n",
            "Epoch 18/20\n",
            "375/375 [==============================] - 1s 3ms/step - loss: 0.0960 - accuracy: 0.9703 - val_loss: 0.1117 - val_accuracy: 0.9668\n",
            "Epoch 19/20\n",
            "375/375 [==============================] - 1s 3ms/step - loss: 0.0937 - accuracy: 0.9708 - val_loss: 0.1097 - val_accuracy: 0.9669\n",
            "Epoch 20/20\n",
            "375/375 [==============================] - 1s 3ms/step - loss: 0.0911 - accuracy: 0.9711 - val_loss: 0.1229 - val_accuracy: 0.9644\n"
          ]
        }
      ]
    }
  ]
}