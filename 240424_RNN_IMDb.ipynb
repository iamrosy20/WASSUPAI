{
  "nbformat": 4,
  "nbformat_minor": 0,
  "metadata": {
    "colab": {
      "provenance": [],
      "authorship_tag": "ABX9TyPLMKskvIT16qXg/SyoDeOz"
    },
    "kernelspec": {
      "name": "python3",
      "display_name": "Python 3"
    },
    "language_info": {
      "name": "python"
    }
  },
  "cells": [
    {
      "cell_type": "code",
      "execution_count": 1,
      "metadata": {
        "colab": {
          "base_uri": "https://localhost:8080/"
        },
        "id": "xEl57TW3tN_p",
        "outputId": "a1363b2a-5c57-4b0d-fbec-8b5790b06151"
      },
      "outputs": [
        {
          "output_type": "stream",
          "name": "stdout",
          "text": [
            "Downloading data from https://storage.googleapis.com/tensorflow/tf-keras-datasets/imdb.npz\n",
            "17464789/17464789 [==============================] - 1s 0us/step\n"
          ]
        }
      ],
      "source": [
        "# Load dataset\n",
        "from tensorflow.keras.datasets import imdb\n",
        "max_features = 10000        # corpus size\n",
        "(x_train, y_train), (x_test, y_test) = imdb.load_data(num_words=max_features)"
      ]
    },
    {
      "cell_type": "code",
      "source": [
        "# Sequence padding\n",
        "from tensorflow.keras.preprocessing import sequence\n",
        "max_len = 100               # max length of each sentence\n",
        "x_train = sequence.pad_sequences(x_train, maxlen=max_len)\n",
        "x_test = sequence.pad_sequences(x_test, maxlen=max_len)"
      ],
      "metadata": {
        "id": "JuuDxoV_tl7a"
      },
      "execution_count": 2,
      "outputs": []
    },
    {
      "cell_type": "code",
      "source": [
        "# Mapping (word -> integer)\n",
        "word_index = imdb.get_word_index()"
      ],
      "metadata": {
        "colab": {
          "base_uri": "https://localhost:8080/"
        },
        "id": "OAx0UEGEt0H0",
        "outputId": "f839f2fd-e807-4855-a6d5-4739b35aad2e"
      },
      "execution_count": 3,
      "outputs": [
        {
          "output_type": "stream",
          "name": "stdout",
          "text": [
            "Downloading data from https://storage.googleapis.com/tensorflow/tf-keras-datasets/imdb_word_index.json\n",
            "1641221/1641221 [==============================] - 1s 0us/step\n"
          ]
        }
      ]
    },
    {
      "cell_type": "code",
      "source": [
        "# Inverse mapping (integer -> word)\n",
        "reverse_word_index = dict([(value + 3, key) for (key, value) in word_index.items()])\n",
        "reverse_word_index[0] = '<PAD>'\n",
        "reverse_word_index[1] = '<START>'\n",
        "reverse_word_index[2] = '<UNK>'\n",
        "reverse_word_index[3] = '<UNUSED>'"
      ],
      "metadata": {
        "id": "dX14qpxMuvX4"
      },
      "execution_count": 4,
      "outputs": []
    },
    {
      "cell_type": "code",
      "source": [
        "# Decode first review\n",
        "decoded_review = ' '.join([reverse_word_index.get(i, '?') for i in x_train[0]])\n",
        "print(decoded_review)"
      ],
      "metadata": {
        "colab": {
          "base_uri": "https://localhost:8080/"
        },
        "id": "mQZruy7dutBa",
        "outputId": "d3e491e7-6b28-4386-e608-28d4ac7da007"
      },
      "execution_count": 5,
      "outputs": [
        {
          "output_type": "stream",
          "name": "stdout",
          "text": [
            "cry at a film it must have been good and this definitely was also <UNK> to the two little boy's that played the <UNK> of norman and paul they were just brilliant children are often left out of the <UNK> list i think because the stars that play them all grown up are such a big profile for the whole film but these children are amazing and should be praised for what they have done don't you think the whole story was so lovely because it was true and was someone's life after all that was shared with us all\n"
          ]
        }
      ]
    },
    {
      "cell_type": "code",
      "source": [
        "# One-hot encoding\n",
        "from tensorflow.keras.utils import to_categorical\n",
        "y_train_one_hot = to_categorical(y_train)\n",
        "y_test_one_hot = to_categorical(y_test)"
      ],
      "metadata": {
        "id": "zLA0Lsxkuxqt"
      },
      "execution_count": 6,
      "outputs": []
    },
    {
      "cell_type": "code",
      "source": [
        "# Check shape of dataset\n",
        "print(x_train.shape)\n",
        "print(x_test.shape)\n",
        "print(y_train_one_hot.shape)\n",
        "print(y_test_one_hot.shape)"
      ],
      "metadata": {
        "colab": {
          "base_uri": "https://localhost:8080/"
        },
        "id": "dC-EKJTVujgw",
        "outputId": "f68c45cf-3b73-4bdd-9362-e00546a4595b"
      },
      "execution_count": 8,
      "outputs": [
        {
          "output_type": "stream",
          "name": "stdout",
          "text": [
            "(25000, 100)\n",
            "(25000, 100)\n",
            "(25000, 2)\n",
            "(25000, 2)\n"
          ]
        }
      ]
    },
    {
      "cell_type": "code",
      "source": [
        "# Build model\n",
        "from tensorflow.keras.models import Sequential\n",
        "from tensorflow.keras.layers import Embedding, SimpleRNN, Dense\n",
        "model = Sequential()\n",
        "model.add(Embedding(max_features, 64))                                  # 10000 * 64 = 640000\n",
        "model.add(SimpleRNN(32, activation='tanh', return_sequences=False))     # (64 + 32 + 1) * 32 = 3104\n",
        "model.add(Dense(16, activation='tanh'))                                 # (32 + 1) * 16 = 528\n",
        "model.add(Dense(2, activation='softmax'))                               # (16 + 1) * 2 = 34\n",
        "model.summary()"
      ],
      "metadata": {
        "colab": {
          "base_uri": "https://localhost:8080/"
        },
        "id": "A2DIQhzqu9Uj",
        "outputId": "7fb9ad56-3a90-41f8-c209-64378bad660f"
      },
      "execution_count": 9,
      "outputs": [
        {
          "output_type": "stream",
          "name": "stdout",
          "text": [
            "Model: \"sequential\"\n",
            "_________________________________________________________________\n",
            " Layer (type)                Output Shape              Param #   \n",
            "=================================================================\n",
            " embedding (Embedding)       (None, None, 64)          640000    \n",
            "                                                                 \n",
            " simple_rnn (SimpleRNN)      (None, 32)                3104      \n",
            "                                                                 \n",
            " dense (Dense)               (None, 16)                528       \n",
            "                                                                 \n",
            " dense_1 (Dense)             (None, 2)                 34        \n",
            "                                                                 \n",
            "=================================================================\n",
            "Total params: 643666 (2.46 MB)\n",
            "Trainable params: 643666 (2.46 MB)\n",
            "Non-trainable params: 0 (0.00 Byte)\n",
            "_________________________________________________________________\n"
          ]
        }
      ]
    },
    {
      "cell_type": "code",
      "source": [
        "# Compile\n",
        "from tensorflow.keras.optimizers import RMSprop\n",
        "model.compile(optimizer=RMSprop(learning_rate=0.0005), loss='binary_crossentropy', metrics=['accuracy'])"
      ],
      "metadata": {
        "id": "HgsUlJ39wHZT"
      },
      "execution_count": 11,
      "outputs": []
    },
    {
      "cell_type": "code",
      "source": [
        "# Fit the model\n",
        "history = model.fit(x_train, y_train_one_hot, epochs=10, batch_size=128, validation_split=0.1)"
      ],
      "metadata": {
        "colab": {
          "base_uri": "https://localhost:8080/"
        },
        "id": "Oy2jGYCswRvW",
        "outputId": "e471c618-8983-45df-d1d1-07d79f81456b"
      },
      "execution_count": 12,
      "outputs": [
        {
          "output_type": "stream",
          "name": "stdout",
          "text": [
            "Epoch 1/10\n",
            "176/176 [==============================] - 8s 37ms/step - loss: 0.5845 - accuracy: 0.6808 - val_loss: 0.4616 - val_accuracy: 0.7948\n",
            "Epoch 2/10\n",
            "176/176 [==============================] - 8s 43ms/step - loss: 0.3645 - accuracy: 0.8456 - val_loss: 0.3668 - val_accuracy: 0.8408\n",
            "Epoch 3/10\n",
            "176/176 [==============================] - 7s 42ms/step - loss: 0.2762 - accuracy: 0.8904 - val_loss: 0.3604 - val_accuracy: 0.8436\n",
            "Epoch 4/10\n",
            "176/176 [==============================] - 7s 39ms/step - loss: 0.2137 - accuracy: 0.9200 - val_loss: 0.3737 - val_accuracy: 0.8424\n",
            "Epoch 5/10\n",
            "176/176 [==============================] - 10s 57ms/step - loss: 0.1561 - accuracy: 0.9451 - val_loss: 0.4285 - val_accuracy: 0.8332\n",
            "Epoch 6/10\n",
            "176/176 [==============================] - 12s 67ms/step - loss: 0.1026 - accuracy: 0.9668 - val_loss: 0.5523 - val_accuracy: 0.8160\n",
            "Epoch 7/10\n",
            "176/176 [==============================] - 8s 46ms/step - loss: 0.0595 - accuracy: 0.9833 - val_loss: 0.5366 - val_accuracy: 0.8344\n",
            "Epoch 8/10\n",
            "176/176 [==============================] - 8s 43ms/step - loss: 0.0295 - accuracy: 0.9931 - val_loss: 0.6146 - val_accuracy: 0.8228\n",
            "Epoch 9/10\n",
            "176/176 [==============================] - 7s 39ms/step - loss: 0.0165 - accuracy: 0.9962 - val_loss: 0.7177 - val_accuracy: 0.8224\n",
            "Epoch 10/10\n",
            "176/176 [==============================] - 7s 41ms/step - loss: 0.0108 - accuracy: 0.9974 - val_loss: 0.7938 - val_accuracy: 0.8244\n"
          ]
        }
      ]
    },
    {
      "cell_type": "code",
      "source": [
        "# Visualize loss\n",
        "import matplotlib.pyplot as plt\n",
        "plt.plot(history.history['loss'])\n",
        "plt.plot(history.history['val_loss'])\n",
        "plt.xlabel('epoch')\n",
        "plt.ylabel('loss')\n",
        "plt.legend(['train', 'val'])\n",
        "plt.show()"
      ],
      "metadata": {
        "colab": {
          "base_uri": "https://localhost:8080/",
          "height": 449
        },
        "id": "PuboMFV5wZBh",
        "outputId": "83ba6e1a-c075-448b-d2e2-eeef7084bc51"
      },
      "execution_count": 13,
      "outputs": [
        {
          "output_type": "display_data",
          "data": {
            "text/plain": [
              "<Figure size 640x480 with 1 Axes>"
            ],
            "image/png": "[encoded data removed]"
          },
          "metadata": {}
        }
      ]
    },
    {
      "cell_type": "code",
      "source": [
        "# Evaluate the model\n",
        "test_loss, test_acc = model.evaluate(x_test, y_test_one_hot)\n",
        "print(f'Test loss: {test_loss:.4f}')\n",
        "print(f'Test accuracy: {test_acc:.4f}')"
      ],
      "metadata": {
        "colab": {
          "base_uri": "https://localhost:8080/"
        },
        "id": "j3wzQjTpwrH2",
        "outputId": "514074ab-5fa1-4acd-8878-60b4ce044dc5"
      },
      "execution_count": 14,
      "outputs": [
        {
          "output_type": "stream",
          "name": "stdout",
          "text": [
            "782/782 [==============================] - 6s 8ms/step - loss: 0.7949 - accuracy: 0.8205\n",
            "Test loss: 0.7949\n",
            "Test accuracy: 0.8205\n"
          ]
        }
      ]
    },
    {
      "cell_type": "code",
      "source": [
        "# Prediction\n",
        "import numpy as np\n",
        "from sklearn.metrics import confusion_matrix, classification_report\n",
        "preds = model.predict(x_test)\n",
        "labels = [0, 1]\n",
        "preds_max = [labels[np.argmax(probs)] for probs in preds]\n",
        "print(confusion_matrix(y_test, preds_max))\n",
        "print(classification_report(y_test, preds_max))"
      ],
      "metadata": {
        "colab": {
          "base_uri": "https://localhost:8080/"
        },
        "id": "41SoQkYpw1JA",
        "outputId": "ee226257-a492-4afd-e0b9-6df66cbb775b"
      },
      "execution_count": 15,
      "outputs": [
        {
          "output_type": "stream",
          "name": "stdout",
          "text": [
            "782/782 [==============================] - 7s 8ms/step\n",
            "[[ 9898  2602]\n",
            " [ 1886 10614]]\n",
            "              precision    recall  f1-score   support\n",
            "\n",
            "           0       0.84      0.79      0.82     12500\n",
            "           1       0.80      0.85      0.83     12500\n",
            "\n",
            "    accuracy                           0.82     25000\n",
            "   macro avg       0.82      0.82      0.82     25000\n",
            "weighted avg       0.82      0.82      0.82     25000\n",
            "\n"
          ]
        }
      ]
    }
  ]
}