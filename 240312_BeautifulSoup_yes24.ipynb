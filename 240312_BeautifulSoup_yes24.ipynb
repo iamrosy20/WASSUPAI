{
  "nbformat": 4,
  "nbformat_minor": 0,
  "metadata": {
    "colab": {
      "provenance": [],
      "authorship_tag": "ABX9TyO6NTN17L0TB4u2Jd4QdGNz"
    },
    "kernelspec": {
      "name": "python3",
      "display_name": "Python 3"
    },
    "language_info": {
      "name": "python"
    }
  },
  "cells": [
    {
      "cell_type": "markdown",
      "source": [
        "# **웹 페이지에서 정보 추출하기**"
      ],
      "metadata": {
        "id": "fGWM1aLkCZNn"
      }
    },
    {
      "cell_type": "markdown",
      "source": [
        "### 하나의 책에 대해 아래 정보를 추출\n",
        "\n",
        "*   책 ID\n",
        "*   책 제목\n",
        "\n"
      ],
      "metadata": {
        "id": "DofdxK67DnSa"
      }
    },
    {
      "cell_type": "code",
      "source": [
        "import requests\n",
        "from bs4 import BeautifulSoup"
      ],
      "metadata": {
        "id": "FIYEIW2MB01U"
      },
      "execution_count": null,
      "outputs": []
    },
    {
      "cell_type": "code",
      "execution_count": null,
      "metadata": {
        "id": "_tjodaWOBcY4"
      },
      "outputs": [],
      "source": [
        "url = 'http://www.yes24.com/Product/Goods/119293186'\n",
        "r = requests.get(url)"
      ]
    },
    {
      "cell_type": "code",
      "source": [
        "print(r.status_code)"
      ],
      "metadata": {
        "colab": {
          "base_uri": "https://localhost:8080/"
        },
        "id": "F8zSlxthFuMf",
        "outputId": "b32a3b57-5806-4dca-e9eb-812e5e834597"
      },
      "execution_count": null,
      "outputs": [
        {
          "output_type": "stream",
          "name": "stdout",
          "text": [
            "200\n"
          ]
        }
      ]
    },
    {
      "cell_type": "code",
      "source": [
        "html = r.text\n",
        "# print(html)"
      ],
      "metadata": {
        "id": "2nviPabzB7cR"
      },
      "execution_count": null,
      "outputs": []
    },
    {
      "cell_type": "code",
      "source": [
        "soup = BeautifulSoup(html, 'lxml')"
      ],
      "metadata": {
        "id": "jHsjnGPbCrDK"
      },
      "execution_count": null,
      "outputs": []
    },
    {
      "cell_type": "code",
      "source": [
        "print(soup.title)\n",
        "print(soup.title.text)"
      ],
      "metadata": {
        "colab": {
          "base_uri": "https://localhost:8080/"
        },
        "id": "FkbMZQKrC2dO",
        "outputId": "890288f3-a057-4d80-e67e-28c3042464a2"
      },
      "execution_count": null,
      "outputs": [
        {
          "output_type": "stream",
          "name": "stdout",
          "text": [
            "<title>Do it! 점프 투 파이썬 - 예스24 </title>\n",
            "Do it! 점프 투 파이썬 - 예스24 \n"
          ]
        }
      ]
    },
    {
      "cell_type": "markdown",
      "source": [
        "### for 문을 활용하여 여러 가지 책에 대해 아래 정보를 추출\n",
        "\n",
        "*   책 ID\n",
        "*   책 제목"
      ],
      "metadata": {
        "id": "-UBLNUvgF8wL"
      }
    },
    {
      "cell_type": "code",
      "source": [
        "import pandas as pd"
      ],
      "metadata": {
        "id": "isBEGjuhIYSZ"
      },
      "execution_count": null,
      "outputs": []
    },
    {
      "cell_type": "code",
      "source": [
        "book_df = pd.DataFrame(columns=['ID', 'Title'])"
      ],
      "metadata": {
        "id": "QHyoGL12D0Lt"
      },
      "execution_count": null,
      "outputs": []
    },
    {
      "cell_type": "code",
      "source": [
        "start_id = 119293186\n",
        "end_id = 119293195"
      ],
      "metadata": {
        "id": "YYI4_iWxEQGA"
      },
      "execution_count": null,
      "outputs": []
    },
    {
      "cell_type": "code",
      "source": [
        "for book_id in range(start_id, end_id+1):\n",
        "    url = f'http://www.yes24.com/Product/Goods/{book_id}'\n",
        "    try:\n",
        "        r = requests.get(url)\n",
        "        if r.status_code == 200:\n",
        "            html = r.text\n",
        "            soup = BeautifulSoup(html, 'lxml')\n",
        "            title = soup.title.text\n",
        "            book_df = book_df.append({'ID': book_id, 'Title': title}, ignore_index=True)\n",
        "        else:\n",
        "            print('No such book:', book_id, '(status code:', r.status_code, ')')\n",
        "    except:\n",
        "        print('Error')"
      ],
      "metadata": {
        "colab": {
          "base_uri": "https://localhost:8080/"
        },
        "id": "KMjO8OlHEd_i",
        "outputId": "af485800-3f80-4bef-c9de-984757dfdea4"
      },
      "execution_count": null,
      "outputs": [
        {
          "output_type": "stream",
          "name": "stderr",
          "text": [
            "<ipython-input-32-6f7062c8046a>:9: FutureWarning: The frame.append method is deprecated and will be removed from pandas in a future version. Use pandas.concat instead.\n",
            "  book_df = book_df.append({'ID': book_id, 'Title': title}, ignore_index=True)\n",
            "<ipython-input-32-6f7062c8046a>:9: FutureWarning: The frame.append method is deprecated and will be removed from pandas in a future version. Use pandas.concat instead.\n",
            "  book_df = book_df.append({'ID': book_id, 'Title': title}, ignore_index=True)\n",
            "<ipython-input-32-6f7062c8046a>:9: FutureWarning: The frame.append method is deprecated and will be removed from pandas in a future version. Use pandas.concat instead.\n",
            "  book_df = book_df.append({'ID': book_id, 'Title': title}, ignore_index=True)\n",
            "<ipython-input-32-6f7062c8046a>:9: FutureWarning: The frame.append method is deprecated and will be removed from pandas in a future version. Use pandas.concat instead.\n",
            "  book_df = book_df.append({'ID': book_id, 'Title': title}, ignore_index=True)\n"
          ]
        },
        {
          "output_type": "stream",
          "name": "stdout",
          "text": [
            "Error\n"
          ]
        },
        {
          "output_type": "stream",
          "name": "stderr",
          "text": [
            "<ipython-input-32-6f7062c8046a>:9: FutureWarning: The frame.append method is deprecated and will be removed from pandas in a future version. Use pandas.concat instead.\n",
            "  book_df = book_df.append({'ID': book_id, 'Title': title}, ignore_index=True)\n",
            "<ipython-input-32-6f7062c8046a>:9: FutureWarning: The frame.append method is deprecated and will be removed from pandas in a future version. Use pandas.concat instead.\n",
            "  book_df = book_df.append({'ID': book_id, 'Title': title}, ignore_index=True)\n",
            "<ipython-input-32-6f7062c8046a>:9: FutureWarning: The frame.append method is deprecated and will be removed from pandas in a future version. Use pandas.concat instead.\n",
            "  book_df = book_df.append({'ID': book_id, 'Title': title}, ignore_index=True)\n",
            "<ipython-input-32-6f7062c8046a>:9: FutureWarning: The frame.append method is deprecated and will be removed from pandas in a future version. Use pandas.concat instead.\n",
            "  book_df = book_df.append({'ID': book_id, 'Title': title}, ignore_index=True)\n",
            "<ipython-input-32-6f7062c8046a>:9: FutureWarning: The frame.append method is deprecated and will be removed from pandas in a future version. Use pandas.concat instead.\n",
            "  book_df = book_df.append({'ID': book_id, 'Title': title}, ignore_index=True)\n"
          ]
        }
      ]
    },
    {
      "cell_type": "code",
      "source": [
        "print(book_df)"
      ],
      "metadata": {
        "colab": {
          "base_uri": "https://localhost:8080/"
        },
        "id": "X_3h-EBcH9LW",
        "outputId": "4edd6a19-e81c-47bd-a64f-634b4294bb14"
      },
      "execution_count": null,
      "outputs": [
        {
          "output_type": "stream",
          "name": "stdout",
          "text": [
            "          ID                                              Title\n",
            "0  119293186                            Do it! 점프 투 파이썬 - 예스24 \n",
            "1  119293187                               [중고샵] 자전거 홀릭 - 예스24 \n",
            "2  119293188                               [중고샵] 사랑의 언어 - 예스24 \n",
            "3  119293189                  [중고샵] molly moon‘s   6권세트 - 예스24 \n",
            "4  119293191                     [중고샵] 여보세요, 거기 누구 없어요? - 예스24 \n",
            "5  119293192                                 [중고샵] 갈대상자 - 예스24 \n",
            "6  119293193  [중고샵] 밀란 포셰 22(공주님은 언제나 안 된다고 말해요 )외1-28 권중 18...\n",
            "7  119293194          [중고샵] The Essence of Tony Bennett - 예스24 \n",
            "8  119293195                        [중고샵] 더러운 장이 병을 만든다 - 예스24 \n"
          ]
        }
      ]
    }
  ]
}