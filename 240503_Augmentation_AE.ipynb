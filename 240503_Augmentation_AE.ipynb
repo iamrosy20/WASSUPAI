{
  "nbformat": 4,
  "nbformat_minor": 0,
  "metadata": {
    "colab": {
      "provenance": [],
      "authorship_tag": "ABX9TyPRnhbX1dtSg+PfUOq7BcXx"
    },
    "kernelspec": {
      "name": "python3",
      "display_name": "Python 3"
    },
    "language_info": {
      "name": "python"
    }
  },
  "cells": [
    {
      "cell_type": "markdown",
      "source": [
        "# **Image Augmentation with AutoEncoder**"
      ],
      "metadata": {
        "id": "O7pqNtuPPuw8"
      }
    },
    {
      "cell_type": "code",
      "execution_count": 1,
      "metadata": {
        "id": "za6OwlfXCDFL"
      },
      "outputs": [],
      "source": [
        "import os\n",
        "import numpy as np\n",
        "from tensorflow.keras.models import Model\n",
        "from tensorflow.keras.preprocessing.image import load_img, img_to_array, array_to_img\n",
        "from tensorflow.keras.layers import Input, Conv2D, MaxPooling2D, UpSampling2D"
      ]
    },
    {
      "cell_type": "code",
      "source": [
        "from google.colab import drive\n",
        "drive.mount('/content/drive')"
      ],
      "metadata": {
        "colab": {
          "base_uri": "https://localhost:8080/"
        },
        "id": "jUYdpltcQH33",
        "outputId": "8a808dbb-960b-471d-873b-f65160d79b49"
      },
      "execution_count": 2,
      "outputs": [
        {
          "output_type": "stream",
          "name": "stdout",
          "text": [
            "Mounted at /content/drive\n"
          ]
        }
      ]
    },
    {
      "cell_type": "code",
      "source": [
        "# Load and preprocess images\n",
        "def load_images_gdrive(folder_path, target_size=(128, 128)):\n",
        "    images = []\n",
        "    filenames = os.listdir(folder_path)\n",
        "    for filename in filenames:\n",
        "        img_path = os.path.join(folder_path, filename)\n",
        "        img = load_img(img_path, target_size=target_size)\n",
        "        img = img_to_array(img) / 255\n",
        "        images.append(img)\n",
        "    return np.array(images)"
      ],
      "metadata": {
        "id": "E3TuYLfmQEwM"
      },
      "execution_count": 3,
      "outputs": []
    },
    {
      "cell_type": "code",
      "source": [
        "# Build autoencoder\n",
        "def build_autoencoder(input_shape):\n",
        "    input_img = Input(shape=input_shape)\n",
        "    x = Conv2D(32, (3, 3), activation='relu', padding='same')(input_img)\n",
        "    x = MaxPooling2D((2, 2), padding='same')(x)\n",
        "    x = Conv2D(16, (3, 3), activation='relu', padding='same')(x)\n",
        "    encoded = MaxPooling2D((2, 2), padding='same')(x)\n",
        "    x = Conv2D(16, (3, 3), activation='relu', padding='same')(encoded)\n",
        "    x = UpSampling2D((2, 2))(x)\n",
        "    x = Conv2D(32, (3, 3), activation='relu', padding='same')(x)\n",
        "    x = UpSampling2D((2, 2))(x)\n",
        "    decoded = Conv2D(3, (3, 3), activation='sigmoid', padding='same')(x)    # make pixel value between 0 and 1 by sigmoid\n",
        "    autoencoder = Model(input_img, decoded)\n",
        "    autoencoder.compile(optimizer='adam', loss='binary_crossentropy')\n",
        "    return autoencoder"
      ],
      "metadata": {
        "id": "Gx67h9NAQlv4"
      },
      "execution_count": 9,
      "outputs": []
    },
    {
      "cell_type": "code",
      "source": [
        "# Image augmentation\n",
        "def augment_images(autoencoder, images, save_dir):\n",
        "    decoded_images = autoencoder.predict(images)\n",
        "    if not os.path.exists(save_dir):\n",
        "        os.makedirs(save_dir)\n",
        "    for i, img_array in enumerate(decoded_images):\n",
        "        img = array_to_img(img_array)\n",
        "        img.save(os.path.join(save_dir, f'augmented_image_{i}.png'))"
      ],
      "metadata": {
        "id": "WPZVFk-pRt8n"
      },
      "execution_count": 6,
      "outputs": []
    },
    {
      "cell_type": "code",
      "source": [
        "# Main code\n",
        "if __name__ == '__main__':\n",
        "    # Load original images\n",
        "    folder_path = '/content/drive/MyDrive/Samples/crawling/b_bicycle/'\n",
        "    images = load_images_gdrive(folder_path)\n",
        "\n",
        "    # Fit autoencoder\n",
        "    autoencoder = build_autoencoder(input_shape=(128, 128, 3))\n",
        "    autoencoder.fit(images, images, epochs=20, batch_size=20)\n",
        "\n",
        "    # Save augmented images\n",
        "    save_dir = '/content/drive/MyDrive/Augmentation/Crawling/b_bicycle'\n",
        "    augment_images(autoencoder, images, save_dir)"
      ],
      "metadata": {
        "colab": {
          "base_uri": "https://localhost:8080/"
        },
        "id": "91EJyjV8SB5d",
        "outputId": "33b50fe9-9cbe-4ee2-e4d6-66f6fecf0def"
      },
      "execution_count": 10,
      "outputs": [
        {
          "output_type": "stream",
          "name": "stdout",
          "text": [
            "Epoch 1/20\n",
            "9/9 [==============================] - 11s 1s/step - loss: 0.6863\n",
            "Epoch 2/20\n",
            "9/9 [==============================] - 8s 879ms/step - loss: 0.6513\n",
            "Epoch 3/20\n",
            "9/9 [==============================] - 10s 1s/step - loss: 0.6163\n",
            "Epoch 4/20\n",
            "9/9 [==============================] - 11s 1s/step - loss: 0.5928\n",
            "Epoch 5/20\n",
            "9/9 [==============================] - 7s 814ms/step - loss: 0.5786\n",
            "Epoch 6/20\n",
            "9/9 [==============================] - 12s 1s/step - loss: 0.5693\n",
            "Epoch 7/20\n",
            "9/9 [==============================] - 8s 828ms/step - loss: 0.5646\n",
            "Epoch 8/20\n",
            "9/9 [==============================] - 9s 1s/step - loss: 0.5630\n",
            "Epoch 9/20\n",
            "9/9 [==============================] - 9s 992ms/step - loss: 0.5619\n",
            "Epoch 10/20\n",
            "9/9 [==============================] - 13s 1s/step - loss: 0.5589\n",
            "Epoch 11/20\n",
            "9/9 [==============================] - 10s 1s/step - loss: 0.5579\n",
            "Epoch 12/20\n",
            "9/9 [==============================] - 8s 893ms/step - loss: 0.5569\n",
            "Epoch 13/20\n",
            "9/9 [==============================] - 10s 1s/step - loss: 0.5558\n",
            "Epoch 14/20\n",
            "9/9 [==============================] - 8s 934ms/step - loss: 0.5551\n",
            "Epoch 15/20\n",
            "9/9 [==============================] - 9s 951ms/step - loss: 0.5545\n",
            "Epoch 16/20\n",
            "9/9 [==============================] - 10s 1s/step - loss: 0.5544\n",
            "Epoch 17/20\n",
            "9/9 [==============================] - 8s 896ms/step - loss: 0.5541\n",
            "Epoch 18/20\n",
            "9/9 [==============================] - 10s 1s/step - loss: 0.5538\n",
            "Epoch 19/20\n",
            "9/9 [==============================] - 9s 1s/step - loss: 0.5524\n",
            "Epoch 20/20\n",
            "9/9 [==============================] - 9s 893ms/step - loss: 0.5524\n",
            "6/6 [==============================] - 3s 417ms/step\n"
          ]
        }
      ]
    }
  ]
}