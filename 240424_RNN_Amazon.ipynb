{
  "nbformat": 4,
  "nbformat_minor": 0,
  "metadata": {
    "colab": {
      "provenance": [],
      "authorship_tag": "ABX9TyPTh2RLATQ8KFToIIAGcDI8"
    },
    "kernelspec": {
      "name": "python3",
      "display_name": "Python 3"
    },
    "language_info": {
      "name": "python"
    }
  },
  "cells": [
    {
      "cell_type": "code",
      "execution_count": 3,
      "metadata": {
        "id": "J2cQ5f0By939"
      },
      "outputs": [],
      "source": [
        "import pandas as pd\n",
        "from tensorflow.keras.preprocessing.text import Tokenizer\n",
        "from tensorflow.keras.preprocessing.sequence import pad_sequences\n",
        "from sklearn.preprocessing import LabelEncoder\n",
        "from sklearn.model_selection import train_test_split\n",
        "from tensorflow.keras.models import Sequential\n",
        "from tensorflow.keras.layers import Embedding, SimpleRNN, Dense\n",
        "import re"
      ]
    },
    {
      "cell_type": "code",
      "source": [
        "from google.colab import drive\n",
        "drive.mount('/content/drive')"
      ],
      "metadata": {
        "colab": {
          "base_uri": "https://localhost:8080/"
        },
        "id": "Csvq2Lo0zhny",
        "outputId": "efc1cfd7-d5a7-42bc-e29c-fc10f07d9423"
      },
      "execution_count": 4,
      "outputs": [
        {
          "output_type": "stream",
          "name": "stdout",
          "text": [
            "Mounted at /content/drive\n"
          ]
        }
      ]
    },
    {
      "cell_type": "markdown",
      "source": [
        "### **1. 데이터 수집**"
      ],
      "metadata": {
        "id": "oH1Wcgc_2r_6"
      }
    },
    {
      "cell_type": "code",
      "source": [
        "# Load dataset\n",
        "path = '/content/drive/MyDrive/Samples/Amazon_Reviews.csv'\n",
        "data = pd.read_csv(path)\n",
        "print(data.info())"
      ],
      "metadata": {
        "id": "rLejvIPGzqTt",
        "colab": {
          "base_uri": "https://localhost:8080/"
        },
        "outputId": "71f49aa4-9b21-4fef-c6b1-10c0596199a1"
      },
      "execution_count": 6,
      "outputs": [
        {
          "output_type": "stream",
          "name": "stdout",
          "text": [
            "<class 'pandas.core.frame.DataFrame'>\n",
            "RangeIndex: 5000 entries, 0 to 4999\n",
            "Data columns (total 18 columns):\n",
            " #   Column               Non-Null Count  Dtype  \n",
            "---  ------               --------------  -----  \n",
            " 0   id                   5000 non-null   object \n",
            " 1   dateAdded            5000 non-null   object \n",
            " 2   dateUpdated          5000 non-null   object \n",
            " 3   name                 5000 non-null   object \n",
            " 4   categories           5000 non-null   object \n",
            " 5   primaryCategories    5000 non-null   object \n",
            " 6   manufacturerNumber   5000 non-null   object \n",
            " 7   reviews.date         5000 non-null   object \n",
            " 8   reviews.dateAdded    1052 non-null   object \n",
            " 9   reviews.dateSeen     5000 non-null   object \n",
            " 10  reviews.doRecommend  5000 non-null   bool   \n",
            " 11  reviews.id           29 non-null     float64\n",
            " 12  reviews.numHelpful   5000 non-null   int64  \n",
            " 13  reviews.rating       5000 non-null   int64  \n",
            " 14  reviews.sourceURLs   5000 non-null   object \n",
            " 15  reviews.text         5000 non-null   object \n",
            " 16  reviews.title        4987 non-null   object \n",
            " 17  reviews.username     4999 non-null   object \n",
            "dtypes: bool(1), float64(1), int64(2), object(14)\n",
            "memory usage: 669.1+ KB\n",
            "None\n"
          ]
        }
      ]
    },
    {
      "cell_type": "code",
      "source": [
        "display(data.head())"
      ],
      "metadata": {
        "colab": {
          "base_uri": "https://localhost:8080/",
          "height": 573
        },
        "id": "8mNbsGePz3V3",
        "outputId": "f6803310-f1db-4e2c-e28e-663c1fad5c54"
      },
      "execution_count": 7,
      "outputs": [
        {
          "output_type": "display_data",
          "data": {
            "text/plain": [
              "                     id             dateAdded           dateUpdated  \\\n",
              "0  AVqVGZNvQMlgsOJE6eUY  2017-03-03T16:56:05Z  2018-10-25T16:36:31Z   \n",
              "1  AVqVGZNvQMlgsOJE6eUY  2017-03-03T16:56:05Z  2018-10-25T16:36:31Z   \n",
              "2  AVqVGZNvQMlgsOJE6eUY  2017-03-03T16:56:05Z  2018-10-25T16:36:31Z   \n",
              "3  AVqVGZNvQMlgsOJE6eUY  2017-03-03T16:56:05Z  2018-10-25T16:36:31Z   \n",
              "4  AVqVGZNvQMlgsOJE6eUY  2017-03-03T16:56:05Z  2018-10-25T16:36:31Z   \n",
              "\n",
              "                                                name  \\\n",
              "0  Amazon Kindle E-Reader 6\" Wifi (8th Generation...   \n",
              "1  Amazon Kindle E-Reader 6\" Wifi (8th Generation...   \n",
              "2  Amazon Kindle E-Reader 6\" Wifi (8th Generation...   \n",
              "3  Amazon Kindle E-Reader 6\" Wifi (8th Generation...   \n",
              "4  Amazon Kindle E-Reader 6\" Wifi (8th Generation...   \n",
              "\n",
              "                                          categories primaryCategories  \\\n",
              "0  Computers,Electronics Features,Tablets,Electro...       Electronics   \n",
              "1  Computers,Electronics Features,Tablets,Electro...       Electronics   \n",
              "2  Computers,Electronics Features,Tablets,Electro...       Electronics   \n",
              "3  Computers,Electronics Features,Tablets,Electro...       Electronics   \n",
              "4  Computers,Electronics Features,Tablets,Electro...       Electronics   \n",
              "\n",
              "  manufacturerNumber              reviews.date reviews.dateAdded  \\\n",
              "0         B00ZV9PXP2  2017-09-03T00:00:00.000Z               NaN   \n",
              "1         B00ZV9PXP2  2017-06-06T00:00:00.000Z               NaN   \n",
              "2         B00ZV9PXP2  2018-04-20T00:00:00.000Z               NaN   \n",
              "3         B00ZV9PXP2  2017-11-02T17:33:31.000Z               NaN   \n",
              "4         B00ZV9PXP2  2018-04-24T00:00:00.000Z               NaN   \n",
              "\n",
              "                                    reviews.dateSeen  reviews.doRecommend  \\\n",
              "0  2018-05-27T00:00:00Z,2017-09-18T00:00:00Z,2017...                False   \n",
              "1  2018-05-27T00:00:00Z,2017-07-07T00:00:00Z,2017...                 True   \n",
              "2                               2018-05-27T00:00:00Z                 True   \n",
              "3                               2018-10-09T00:00:00Z                 True   \n",
              "4                               2018-05-27T00:00:00Z                 True   \n",
              "\n",
              "    reviews.id  reviews.numHelpful  reviews.rating  \\\n",
              "0          NaN                   0               3   \n",
              "1          NaN                   0               5   \n",
              "2          NaN                   0               4   \n",
              "3  177283626.0                   3               5   \n",
              "4          NaN                   0               5   \n",
              "\n",
              "                                  reviews.sourceURLs  \\\n",
              "0  http://reviews.bestbuy.com/3545/5442403/review...   \n",
              "1  http://reviews.bestbuy.com/3545/5442403/review...   \n",
              "2  https://reviews.bestbuy.com/3545/5442403/revie...   \n",
              "3  https://redsky.target.com/groot-domain-api/v1/...   \n",
              "4  https://reviews.bestbuy.com/3545/5442403/revie...   \n",
              "\n",
              "                                        reviews.text  \\\n",
              "0  I thought it would be as big as small paper bu...   \n",
              "1  This kindle is light and easy to use especiall...   \n",
              "2  Didnt know how much i'd use a kindle so went f...   \n",
              "3  I am 100 happy with my purchase. I caught it o...   \n",
              "4  Solid entry level Kindle. Great for kids. Gift...   \n",
              "\n",
              "                                  reviews.title reviews.username  \n",
              "0                                     Too small           llyyue  \n",
              "1  Great light reader. Easy to use at the beach           Charmi  \n",
              "2                           Great for the price     johnnyjojojo  \n",
              "3                                   A Great Buy          Kdperry  \n",
              "4      Solid entry-level Kindle. Great for kids      Johnnyblack  "
            ],
            "text/html": [
              "\n",
              "  <div id=\"df-6707e95c-29a2-4963-8118-7b8d197e22de\" class=\"colab-df-container\">\n",
              "    <div>\n",
              "<style scoped>\n",
              "    .dataframe tbody tr th:only-of-type {\n",
              "        vertical-align: middle;\n",
              "    }\n",
              "\n",
              "    .dataframe tbody tr th {\n",
              "        vertical-align: top;\n",
              "    }\n",
              "\n",
              "    .dataframe thead th {\n",
              "        text-align: right;\n",
              "    }\n",
              "</style>\n",
              "<table border=\"1\" class=\"dataframe\">\n",
              "  <thead>\n",
              "    <tr style=\"text-align: right;\">\n",
              "      <th></th>\n",
              "      <th>id</th>\n",
              "      <th>dateAdded</th>\n",
              "      <th>dateUpdated</th>\n",
              "      <th>name</th>\n",
              "      <th>categories</th>\n",
              "      <th>primaryCategories</th>\n",
              "      <th>manufacturerNumber</th>\n",
              "      <th>reviews.date</th>\n",
              "      <th>reviews.dateAdded</th>\n",
              "      <th>reviews.dateSeen</th>\n",
              "      <th>reviews.doRecommend</th>\n",
              "      <th>reviews.id</th>\n",
              "      <th>reviews.numHelpful</th>\n",
              "      <th>reviews.rating</th>\n",
              "      <th>reviews.sourceURLs</th>\n",
              "      <th>reviews.text</th>\n",
              "      <th>reviews.title</th>\n",
              "      <th>reviews.username</th>\n",
              "    </tr>\n",
              "  </thead>\n",
              "  <tbody>\n",
              "    <tr>\n",
              "      <th>0</th>\n",
              "      <td>AVqVGZNvQMlgsOJE6eUY</td>\n",
              "      <td>2017-03-03T16:56:05Z</td>\n",
              "      <td>2018-10-25T16:36:31Z</td>\n",
              "      <td>Amazon Kindle E-Reader 6\" Wifi (8th Generation...</td>\n",
              "      <td>Computers,Electronics Features,Tablets,Electro...</td>\n",
              "      <td>Electronics</td>\n",
              "      <td>B00ZV9PXP2</td>\n",
              "      <td>2017-09-03T00:00:00.000Z</td>\n",
              "      <td>NaN</td>\n",
              "      <td>2018-05-27T00:00:00Z,2017-09-18T00:00:00Z,2017...</td>\n",
              "      <td>False</td>\n",
              "      <td>NaN</td>\n",
              "      <td>0</td>\n",
              "      <td>3</td>\n",
              "      <td>http://reviews.bestbuy.com/3545/5442403/review...</td>\n",
              "      <td>I thought it would be as big as small paper bu...</td>\n",
              "      <td>Too small</td>\n",
              "      <td>llyyue</td>\n",
              "    </tr>\n",
              "    <tr>\n",
              "      <th>1</th>\n",
              "      <td>AVqVGZNvQMlgsOJE6eUY</td>\n",
              "      <td>2017-03-03T16:56:05Z</td>\n",
              "      <td>2018-10-25T16:36:31Z</td>\n",
              "      <td>Amazon Kindle E-Reader 6\" Wifi (8th Generation...</td>\n",
              "      <td>Computers,Electronics Features,Tablets,Electro...</td>\n",
              "      <td>Electronics</td>\n",
              "      <td>B00ZV9PXP2</td>\n",
              "      <td>2017-06-06T00:00:00.000Z</td>\n",
              "      <td>NaN</td>\n",
              "      <td>2018-05-27T00:00:00Z,2017-07-07T00:00:00Z,2017...</td>\n",
              "      <td>True</td>\n",
              "      <td>NaN</td>\n",
              "      <td>0</td>\n",
              "      <td>5</td>\n",
              "      <td>http://reviews.bestbuy.com/3545/5442403/review...</td>\n",
              "      <td>This kindle is light and easy to use especiall...</td>\n",
              "      <td>Great light reader. Easy to use at the beach</td>\n",
              "      <td>Charmi</td>\n",
              "    </tr>\n",
              "    <tr>\n",
              "      <th>2</th>\n",
              "      <td>AVqVGZNvQMlgsOJE6eUY</td>\n",
              "      <td>2017-03-03T16:56:05Z</td>\n",
              "      <td>2018-10-25T16:36:31Z</td>\n",
              "      <td>Amazon Kindle E-Reader 6\" Wifi (8th Generation...</td>\n",
              "      <td>Computers,Electronics Features,Tablets,Electro...</td>\n",
              "      <td>Electronics</td>\n",
              "      <td>B00ZV9PXP2</td>\n",
              "      <td>2018-04-20T00:00:00.000Z</td>\n",
              "      <td>NaN</td>\n",
              "      <td>2018-05-27T00:00:00Z</td>\n",
              "      <td>True</td>\n",
              "      <td>NaN</td>\n",
              "      <td>0</td>\n",
              "      <td>4</td>\n",
              "      <td>https://reviews.bestbuy.com/3545/5442403/revie...</td>\n",
              "      <td>Didnt know how much i'd use a kindle so went f...</td>\n",
              "      <td>Great for the price</td>\n",
              "      <td>johnnyjojojo</td>\n",
              "    </tr>\n",
              "    <tr>\n",
              "      <th>3</th>\n",
              "      <td>AVqVGZNvQMlgsOJE6eUY</td>\n",
              "      <td>2017-03-03T16:56:05Z</td>\n",
              "      <td>2018-10-25T16:36:31Z</td>\n",
              "      <td>Amazon Kindle E-Reader 6\" Wifi (8th Generation...</td>\n",
              "      <td>Computers,Electronics Features,Tablets,Electro...</td>\n",
              "      <td>Electronics</td>\n",
              "      <td>B00ZV9PXP2</td>\n",
              "      <td>2017-11-02T17:33:31.000Z</td>\n",
              "      <td>NaN</td>\n",
              "      <td>2018-10-09T00:00:00Z</td>\n",
              "      <td>True</td>\n",
              "      <td>177283626.0</td>\n",
              "      <td>3</td>\n",
              "      <td>5</td>\n",
              "      <td>https://redsky.target.com/groot-domain-api/v1/...</td>\n",
              "      <td>I am 100 happy with my purchase. I caught it o...</td>\n",
              "      <td>A Great Buy</td>\n",
              "      <td>Kdperry</td>\n",
              "    </tr>\n",
              "    <tr>\n",
              "      <th>4</th>\n",
              "      <td>AVqVGZNvQMlgsOJE6eUY</td>\n",
              "      <td>2017-03-03T16:56:05Z</td>\n",
              "      <td>2018-10-25T16:36:31Z</td>\n",
              "      <td>Amazon Kindle E-Reader 6\" Wifi (8th Generation...</td>\n",
              "      <td>Computers,Electronics Features,Tablets,Electro...</td>\n",
              "      <td>Electronics</td>\n",
              "      <td>B00ZV9PXP2</td>\n",
              "      <td>2018-04-24T00:00:00.000Z</td>\n",
              "      <td>NaN</td>\n",
              "      <td>2018-05-27T00:00:00Z</td>\n",
              "      <td>True</td>\n",
              "      <td>NaN</td>\n",
              "      <td>0</td>\n",
              "      <td>5</td>\n",
              "      <td>https://reviews.bestbuy.com/3545/5442403/revie...</td>\n",
              "      <td>Solid entry level Kindle. Great for kids. Gift...</td>\n",
              "      <td>Solid entry-level Kindle. Great for kids</td>\n",
              "      <td>Johnnyblack</td>\n",
              "    </tr>\n",
              "  </tbody>\n",
              "</table>\n",
              "</div>\n",
              "    <div class=\"colab-df-buttons\">\n",
              "\n",
              "  <div class=\"colab-df-container\">\n",
              "    <button class=\"colab-df-convert\" onclick=\"convertToInteractive('df-6707e95c-29a2-4963-8118-7b8d197e22de')\"\n",
              "            title=\"Convert this dataframe to an interactive table.\"\n",
              "            style=\"display:none;\">\n",
              "\n",
              "  <svg xmlns=\"http://www.w3.org/2000/svg\" height=\"24px\" viewBox=\"0 -960 960 960\">\n",
              "    <path d=\"M120-120v-720h720v720H120Zm60-500h600v-160H180v160Zm220 220h160v-160H400v160Zm0 220h160v-160H400v160ZM180-400h160v-160H180v160Zm440 0h160v-160H620v160ZM180-180h160v-160H180v160Zm440 0h160v-160H620v160Z\"/>\n",
              "  </svg>\n",
              "    </button>\n",
              "\n",
              "  <style>\n",
              "    .colab-df-container {\n",
              "      display:flex;\n",
              "      gap: 12px;\n",
              "    }\n",
              "\n",
              "    .colab-df-convert {\n",
              "      background-color: #E8F0FE;\n",
              "      border: none;\n",
              "      border-radius: 50%;\n",
              "      cursor: pointer;\n",
              "      display: none;\n",
              "      fill: #1967D2;\n",
              "      height: 32px;\n",
              "      padding: 0 0 0 0;\n",
              "      width: 32px;\n",
              "    }\n",
              "\n",
              "    .colab-df-convert:hover {\n",
              "      background-color: #E2EBFA;\n",
              "      box-shadow: 0px 1px 2px rgba(60, 64, 67, 0.3), 0px 1px 3px 1px rgba(60, 64, 67, 0.15);\n",
              "      fill: #174EA6;\n",
              "    }\n",
              "\n",
              "    .colab-df-buttons div {\n",
              "      margin-bottom: 4px;\n",
              "    }\n",
              "\n",
              "    [theme=dark] .colab-df-convert {\n",
              "      background-color: #3B4455;\n",
              "      fill: #D2E3FC;\n",
              "    }\n",
              "\n",
              "    [theme=dark] .colab-df-convert:hover {\n",
              "      background-color: #434B5C;\n",
              "      box-shadow: 0px 1px 3px 1px rgba(0, 0, 0, 0.15);\n",
              "      filter: drop-shadow(0px 1px 2px rgba(0, 0, 0, 0.3));\n",
              "      fill: #FFFFFF;\n",
              "    }\n",
              "  </style>\n",
              "\n",
              "    <script>\n",
              "      const buttonEl =\n",
              "        document.querySelector('#df-6707e95c-29a2-4963-8118-7b8d197e22de button.colab-df-convert');\n",
              "      buttonEl.style.display =\n",
              "        google.colab.kernel.accessAllowed ? 'block' : 'none';\n",
              "\n",
              "      async function convertToInteractive(key) {\n",
              "        const element = document.querySelector('#df-6707e95c-29a2-4963-8118-7b8d197e22de');\n",
              "        const dataTable =\n",
              "          await google.colab.kernel.invokeFunction('convertToInteractive',\n",
              "                                                    [key], {});\n",
              "        if (!dataTable) return;\n",
              "\n",
              "        const docLinkHtml = 'Like what you see? Visit the ' +\n",
              "          '<a target=\"_blank\" href=https://colab.research.google.com/notebooks/data_table.ipynb>data table notebook</a>'\n",
              "          + ' to learn more about interactive tables.';\n",
              "        element.innerHTML = '';\n",
              "        dataTable['output_type'] = 'display_data';\n",
              "        await google.colab.output.renderOutput(dataTable, element);\n",
              "        const docLink = document.createElement('div');\n",
              "        docLink.innerHTML = docLinkHtml;\n",
              "        element.appendChild(docLink);\n",
              "      }\n",
              "    </script>\n",
              "  </div>\n",
              "\n",
              "\n",
              "<div id=\"df-52cd38c0-ac93-4d4f-84bc-361a8bdf22ba\">\n",
              "  <button class=\"colab-df-quickchart\" onclick=\"quickchart('df-52cd38c0-ac93-4d4f-84bc-361a8bdf22ba')\"\n",
              "            title=\"Suggest charts\"\n",
              "            style=\"display:none;\">\n",
              "\n",
              "<svg xmlns=\"http://www.w3.org/2000/svg\" height=\"24px\"viewBox=\"0 0 24 24\"\n",
              "     width=\"24px\">\n",
              "    <g>\n",
              "        <path d=\"M19 3H5c-1.1 0-2 .9-2 2v14c0 1.1.9 2 2 2h14c1.1 0 2-.9 2-2V5c0-1.1-.9-2-2-2zM9 17H7v-7h2v7zm4 0h-2V7h2v10zm4 0h-2v-4h2v4z\"/>\n",
              "    </g>\n",
              "</svg>\n",
              "  </button>\n",
              "\n",
              "<style>\n",
              "  .colab-df-quickchart {\n",
              "      --bg-color: #E8F0FE;\n",
              "      --fill-color: #1967D2;\n",
              "      --hover-bg-color: #E2EBFA;\n",
              "      --hover-fill-color: #174EA6;\n",
              "      --disabled-fill-color: #AAA;\n",
              "      --disabled-bg-color: #DDD;\n",
              "  }\n",
              "\n",
              "  [theme=dark] .colab-df-quickchart {\n",
              "      --bg-color: #3B4455;\n",
              "      --fill-color: #D2E3FC;\n",
              "      --hover-bg-color: #434B5C;\n",
              "      --hover-fill-color: #FFFFFF;\n",
              "      --disabled-bg-color: #3B4455;\n",
              "      --disabled-fill-color: #666;\n",
              "  }\n",
              "\n",
              "  .colab-df-quickchart {\n",
              "    background-color: var(--bg-color);\n",
              "    border: none;\n",
              "    border-radius: 50%;\n",
              "    cursor: pointer;\n",
              "    display: none;\n",
              "    fill: var(--fill-color);\n",
              "    height: 32px;\n",
              "    padding: 0;\n",
              "    width: 32px;\n",
              "  }\n",
              "\n",
              "  .colab-df-quickchart:hover {\n",
              "    background-color: var(--hover-bg-color);\n",
              "    box-shadow: 0 1px 2px rgba(60, 64, 67, 0.3), 0 1px 3px 1px rgba(60, 64, 67, 0.15);\n",
              "    fill: var(--button-hover-fill-color);\n",
              "  }\n",
              "\n",
              "  .colab-df-quickchart-complete:disabled,\n",
              "  .colab-df-quickchart-complete:disabled:hover {\n",
              "    background-color: var(--disabled-bg-color);\n",
              "    fill: var(--disabled-fill-color);\n",
              "    box-shadow: none;\n",
              "  }\n",
              "\n",
              "  .colab-df-spinner {\n",
              "    border: 2px solid var(--fill-color);\n",
              "    border-color: transparent;\n",
              "    border-bottom-color: var(--fill-color);\n",
              "    animation:\n",
              "      spin 1s steps(1) infinite;\n",
              "  }\n",
              "\n",
              "  @keyframes spin {\n",
              "    0% {\n",
              "      border-color: transparent;\n",
              "      border-bottom-color: var(--fill-color);\n",
              "      border-left-color: var(--fill-color);\n",
              "    }\n",
              "    20% {\n",
              "      border-color: transparent;\n",
              "      border-left-color: var(--fill-color);\n",
              "      border-top-color: var(--fill-color);\n",
              "    }\n",
              "    30% {\n",
              "      border-color: transparent;\n",
              "      border-left-color: var(--fill-color);\n",
              "      border-top-color: var(--fill-color);\n",
              "      border-right-color: var(--fill-color);\n",
              "    }\n",
              "    40% {\n",
              "      border-color: transparent;\n",
              "      border-right-color: var(--fill-color);\n",
              "      border-top-color: var(--fill-color);\n",
              "    }\n",
              "    60% {\n",
              "      border-color: transparent;\n",
              "      border-right-color: var(--fill-color);\n",
              "    }\n",
              "    80% {\n",
              "      border-color: transparent;\n",
              "      border-right-color: var(--fill-color);\n",
              "      border-bottom-color: var(--fill-color);\n",
              "    }\n",
              "    90% {\n",
              "      border-color: transparent;\n",
              "      border-bottom-color: var(--fill-color);\n",
              "    }\n",
              "  }\n",
              "</style>\n",
              "\n",
              "  <script>\n",
              "    async function quickchart(key) {\n",
              "      const quickchartButtonEl =\n",
              "        document.querySelector('#' + key + ' button');\n",
              "      quickchartButtonEl.disabled = true;  // To prevent multiple clicks.\n",
              "      quickchartButtonEl.classList.add('colab-df-spinner');\n",
              "      try {\n",
              "        const charts = await google.colab.kernel.invokeFunction(\n",
              "            'suggestCharts', [key], {});\n",
              "      } catch (error) {\n",
              "        console.error('Error during call to suggestCharts:', error);\n",
              "      }\n",
              "      quickchartButtonEl.classList.remove('colab-df-spinner');\n",
              "      quickchartButtonEl.classList.add('colab-df-quickchart-complete');\n",
              "    }\n",
              "    (() => {\n",
              "      let quickchartButtonEl =\n",
              "        document.querySelector('#df-52cd38c0-ac93-4d4f-84bc-361a8bdf22ba button');\n",
              "      quickchartButtonEl.style.display =\n",
              "        google.colab.kernel.accessAllowed ? 'block' : 'none';\n",
              "    })();\n",
              "  </script>\n",
              "</div>\n",
              "\n",
              "    </div>\n",
              "  </div>\n"
            ],
            "application/vnd.google.colaboratory.intrinsic+json": {
              "type": "dataframe",
              "repr_error": "Out of range float values are not JSON compliant: nan"
            }
          },
          "metadata": {}
        }
      ]
    },
    {
      "cell_type": "markdown",
      "source": [
        "### **2. 데이터 전처리**"
      ],
      "metadata": {
        "id": "IMYxsoGl2ptJ"
      }
    },
    {
      "cell_type": "code",
      "source": [
        "# Convert to lowercase and remove special characters\n",
        "data['reviews.text'] = data['reviews.text'].str.lower().str.replace('[^\\w\\s]', '', regex=True)"
      ],
      "metadata": {
        "id": "j10BO0LdzzIN"
      },
      "execution_count": 8,
      "outputs": []
    },
    {
      "cell_type": "code",
      "source": [
        "# Tokenizing\n",
        "max_features = 10000    # corpus size\n",
        "tokenizer = Tokenizer(num_words=max_features)\n",
        "tokenizer.fit_on_texts(data['reviews.text'])"
      ],
      "metadata": {
        "id": "4JQdhuHZ0f96"
      },
      "execution_count": 10,
      "outputs": []
    },
    {
      "cell_type": "code",
      "source": [
        "# Sequence padding\n",
        "max_len = 100           # max length of each review\n",
        "sequences = tokenizer.texts_to_sequences(data['reviews.text'])\n",
        "data_padded = pad_sequences(sequences, maxlen=max_len)"
      ],
      "metadata": {
        "id": "o6pgmRMc0jYi"
      },
      "execution_count": 11,
      "outputs": []
    },
    {
      "cell_type": "code",
      "source": [
        "# Divide category by using ratings\n",
        "def map_rating(rating):\n",
        "    if rating == 1:\n",
        "        return 'very negative'\n",
        "    if rating == 2:\n",
        "        return 'negative'\n",
        "    if rating == 3:\n",
        "        return 'neutral'\n",
        "    if rating == 4:\n",
        "        return 'positive'\n",
        "    elif rating == 5:\n",
        "        return 'very positive'\n",
        "data['sentiment'] = data['reviews.rating'].apply(map_rating)"
      ],
      "metadata": {
        "id": "5Wt9TMH70E-v"
      },
      "execution_count": 12,
      "outputs": []
    },
    {
      "cell_type": "code",
      "source": [
        "# Label encoding\n",
        "encoder = LabelEncoder()\n",
        "labels = encoder.fit_transform(data['sentiment'])"
      ],
      "metadata": {
        "id": "lzfSR_8400Xp"
      },
      "execution_count": 13,
      "outputs": []
    },
    {
      "cell_type": "code",
      "source": [
        "# Split the dataset\n",
        "X_train, X_test, y_train, y_test = train_test_split(data_padded, labels, test_size=0.2, random_state=42)"
      ],
      "metadata": {
        "id": "6LB6lfG80kqW"
      },
      "execution_count": 14,
      "outputs": []
    },
    {
      "cell_type": "markdown",
      "source": [
        "### **3. 모델링**"
      ],
      "metadata": {
        "id": "zFLqKp8W2iw6"
      }
    },
    {
      "cell_type": "code",
      "source": [
        "# Build model\n",
        "model = Sequential()\n",
        "model.add(Embedding(max_features, 64))                                  # 10000 * 64 = 640000\n",
        "model.add(SimpleRNN(32, activation='tanh', return_sequences=False))     # (64 + 32 + 1) * 32 = 3104\n",
        "model.add(Dense(16, activation='tanh'))                                 # (32 + 1) * 16 = 528\n",
        "model.add(Dense(5, activation='softmax'))                               # (16 + 1) * 5 = 85\n",
        "model.summary()"
      ],
      "metadata": {
        "colab": {
          "base_uri": "https://localhost:8080/"
        },
        "id": "-CnprDYe1AVJ",
        "outputId": "f066d3bd-5a4b-4114-ecd2-56a4937a27d8"
      },
      "execution_count": 15,
      "outputs": [
        {
          "output_type": "stream",
          "name": "stdout",
          "text": [
            "Model: \"sequential\"\n",
            "_________________________________________________________________\n",
            " Layer (type)                Output Shape              Param #   \n",
            "=================================================================\n",
            " embedding (Embedding)       (None, None, 64)          640000    \n",
            "                                                                 \n",
            " simple_rnn (SimpleRNN)      (None, 32)                3104      \n",
            "                                                                 \n",
            " dense (Dense)               (None, 16)                528       \n",
            "                                                                 \n",
            " dense_1 (Dense)             (None, 5)                 85        \n",
            "                                                                 \n",
            "=================================================================\n",
            "Total params: 643717 (2.46 MB)\n",
            "Trainable params: 643717 (2.46 MB)\n",
            "Non-trainable params: 0 (0.00 Byte)\n",
            "_________________________________________________________________\n"
          ]
        }
      ]
    },
    {
      "cell_type": "code",
      "source": [
        "# Compile\n",
        "model.compile(optimizer='adam', loss='sparse_categorical_crossentropy', metrics=['accuracy'])"
      ],
      "metadata": {
        "id": "C_iABnji156U"
      },
      "execution_count": 16,
      "outputs": []
    },
    {
      "cell_type": "code",
      "source": [
        "# Fit the model\n",
        "model.fit(X_train, y_train, epochs=10, validation_data=(X_test, y_test))"
      ],
      "metadata": {
        "colab": {
          "base_uri": "https://localhost:8080/"
        },
        "id": "4oHR76Kv1_vN",
        "outputId": "46de6b9e-a8a8-4ab2-c090-b3d434303c7d"
      },
      "execution_count": 17,
      "outputs": [
        {
          "output_type": "stream",
          "name": "stdout",
          "text": [
            "Epoch 1/10\n",
            "125/125 [==============================] - 6s 32ms/step - loss: 0.9199 - accuracy: 0.6785 - val_loss: 0.8197 - val_accuracy: 0.7030\n",
            "Epoch 2/10\n",
            "125/125 [==============================] - 4s 29ms/step - loss: 0.7599 - accuracy: 0.7023 - val_loss: 0.7700 - val_accuracy: 0.7180\n",
            "Epoch 3/10\n",
            "125/125 [==============================] - 5s 43ms/step - loss: 0.5050 - accuracy: 0.8250 - val_loss: 0.7361 - val_accuracy: 0.7140\n",
            "Epoch 4/10\n",
            "125/125 [==============================] - 4s 29ms/step - loss: 0.2299 - accuracy: 0.9367 - val_loss: 0.8478 - val_accuracy: 0.7010\n",
            "Epoch 5/10\n",
            "125/125 [==============================] - 4s 29ms/step - loss: 0.0904 - accuracy: 0.9818 - val_loss: 0.9571 - val_accuracy: 0.7160\n",
            "Epoch 6/10\n",
            "125/125 [==============================] - 5s 39ms/step - loss: 0.0396 - accuracy: 0.9970 - val_loss: 1.0805 - val_accuracy: 0.6900\n",
            "Epoch 7/10\n",
            "125/125 [==============================] - 6s 50ms/step - loss: 0.0244 - accuracy: 0.9985 - val_loss: 1.1305 - val_accuracy: 0.6990\n",
            "Epoch 8/10\n",
            "125/125 [==============================] - 4s 28ms/step - loss: 0.0157 - accuracy: 0.9992 - val_loss: 1.1837 - val_accuracy: 0.7160\n",
            "Epoch 9/10\n",
            "125/125 [==============================] - 5s 42ms/step - loss: 0.0108 - accuracy: 0.9995 - val_loss: 1.2403 - val_accuracy: 0.7130\n",
            "Epoch 10/10\n",
            "125/125 [==============================] - 4s 28ms/step - loss: 0.0077 - accuracy: 0.9998 - val_loss: 1.2841 - val_accuracy: 0.7140\n"
          ]
        },
        {
          "output_type": "execute_result",
          "data": {
            "text/plain": [
              "<keras.src.callbacks.History at 0x7a23ec4ddff0>"
            ]
          },
          "metadata": {},
          "execution_count": 17
        }
      ]
    },
    {
      "cell_type": "code",
      "source": [
        "# Evaluate the model\n",
        "test_loss, test_acc = model.evaluate(X_test, y_test)\n",
        "print(f'Test loss: {test_loss:.4f}')\n",
        "print(f'Test accuracy: {test_acc:.4f}')"
      ],
      "metadata": {
        "colab": {
          "base_uri": "https://localhost:8080/"
        },
        "id": "JGqlmuPl2GTz",
        "outputId": "f533c1cf-1666-42e2-d7ed-5f3fc88f764f"
      },
      "execution_count": 18,
      "outputs": [
        {
          "output_type": "stream",
          "name": "stdout",
          "text": [
            "32/32 [==============================] - 0s 6ms/step - loss: 1.2841 - accuracy: 0.7140\n",
            "Test loss: 1.2841\n",
            "Test accuracy: 0.7140\n"
          ]
        }
      ]
    },
    {
      "cell_type": "markdown",
      "source": [
        "### **4. 예측**"
      ],
      "metadata": {
        "id": "LcWYcL4u2cxc"
      }
    },
    {
      "cell_type": "code",
      "source": [
        "# Create sample review\n",
        "sample_review = \"This product was great in terms of usability and quality!\""
      ],
      "metadata": {
        "id": "FRX5xfky3YtS"
      },
      "execution_count": 19,
      "outputs": []
    },
    {
      "cell_type": "code",
      "source": [
        "# Preprocess the review\n",
        "def preprocess_text(text):\n",
        "    text = text.lower()\n",
        "    text = re.sub(r'[^\\w\\s]', '', text)\n",
        "    sequence = tokenizer.texts_to_sequences([text])\n",
        "    padded_sequence = pad_sequences(sequence, maxlen=max_len)\n",
        "    return padded_sequence\n",
        "sample_review_padded = preprocess_text(sample_review)"
      ],
      "metadata": {
        "id": "WwJjGq7V2Yn8"
      },
      "execution_count": 22,
      "outputs": []
    },
    {
      "cell_type": "code",
      "source": [
        "# Prediction\n",
        "prediction = model.predict(sample_review_padded)\n",
        "predicted_sentiment = encoder.inverse_transform([prediction.argmax()])[0]\n",
        "print(f'The predicted sentiment for the review is: {predicted_sentiment}')"
      ],
      "metadata": {
        "colab": {
          "base_uri": "https://localhost:8080/"
        },
        "id": "BBpISDTY3phy",
        "outputId": "53a4f470-7192-4494-f59e-f84c6438df70"
      },
      "execution_count": 23,
      "outputs": [
        {
          "output_type": "stream",
          "name": "stdout",
          "text": [
            "1/1 [==============================] - 0s 205ms/step\n",
            "The predicted sentiment for the review is: very positive\n"
          ]
        }
      ]
    }
  ]
}
