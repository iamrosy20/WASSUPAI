{
  "nbformat": 4,
  "nbformat_minor": 0,
  "metadata": {
    "colab": {
      "provenance": [],
      "authorship_tag": "ABX9TyNJ1Occ7h/2Ua7jCcWSfce4"
    },
    "kernelspec": {
      "name": "python3",
      "display_name": "Python 3"
    },
    "language_info": {
      "name": "python"
    }
  },
  "cells": [
    {
      "cell_type": "code",
      "execution_count": 1,
      "metadata": {
        "id": "r6IZ_fftUaYU"
      },
      "outputs": [],
      "source": [
        "import pandas as pd\n",
        "import numpy as np\n",
        "import matplotlib.pyplot as plt\n",
        "import seaborn as sns\n",
        "from tensorflow.keras.preprocessing.text import Tokenizer\n",
        "from tensorflow.keras.preprocessing.sequence import pad_sequences\n",
        "from sklearn.model_selection import train_test_split\n",
        "from tensorflow.keras.models import Sequential\n",
        "from tensorflow.keras.layers import Embedding, SimpleRNN, Dense, Flatten\n",
        "from sklearn.metrics import mean_squared_error, mean_absolute_error, r2_score"
      ]
    },
    {
      "cell_type": "markdown",
      "source": [
        "##### Load dataset"
      ],
      "metadata": {
        "id": "fOo11vpXUfbE"
      }
    },
    {
      "cell_type": "code",
      "source": [
        "from google.colab import drive\n",
        "drive.mount('/content/drive')"
      ],
      "metadata": {
        "colab": {
          "base_uri": "https://localhost:8080/"
        },
        "id": "DO29mI5KUfCV",
        "outputId": "bbc39284-bee4-4bb6-fce4-45d02277fd1d"
      },
      "execution_count": 2,
      "outputs": [
        {
          "output_type": "stream",
          "name": "stdout",
          "text": [
            "Mounted at /content/drive\n"
          ]
        }
      ]
    },
    {
      "cell_type": "code",
      "source": [
        "path = '/content/drive/MyDrive/Samples/book.csv'\n",
        "df_1 = pd.read_csv(path, encoding='euc-kr')"
      ],
      "metadata": {
        "id": "_dAouHKmUe_9"
      },
      "execution_count": 3,
      "outputs": []
    },
    {
      "cell_type": "markdown",
      "source": [
        "##### Data Preprocessing"
      ],
      "metadata": {
        "id": "oEgustYiUjDg"
      }
    },
    {
      "cell_type": "code",
      "source": [
        "df_1.dropna(subset=['Title', 'Price'], inplace=True)\n",
        "df_1['Price'] = pd.to_numeric(df_1['Price'].str.replace('[^\\d.]', ''), errors='coerce')"
      ],
      "metadata": {
        "colab": {
          "base_uri": "https://localhost:8080/"
        },
        "id": "ZRe-paauUe98",
        "outputId": "d4f044ee-dafb-479e-d48d-68a70e17ecb3"
      },
      "execution_count": 4,
      "outputs": [
        {
          "output_type": "stream",
          "name": "stderr",
          "text": [
            "<ipython-input-4-4119198d3120>:2: FutureWarning: The default value of regex will change from True to False in a future version.\n",
            "  df_1['Price'] = pd.to_numeric(df_1['Price'].str.replace('[^\\d.]', ''), errors='coerce')\n"
          ]
        }
      ]
    },
    {
      "cell_type": "code",
      "source": [
        "df = df_1[df_1['Title'].str.contains('[가-힣]', regex=True)]"
      ],
      "metadata": {
        "id": "mJ_J3FGpUe7z"
      },
      "execution_count": 5,
      "outputs": []
    },
    {
      "cell_type": "code",
      "source": [
        "X = df['Title']\n",
        "y = df['Price']"
      ],
      "metadata": {
        "id": "io0DLoKwUnJj"
      },
      "execution_count": 6,
      "outputs": []
    },
    {
      "cell_type": "markdown",
      "source": [
        "##### Tokenization, Vectorization, Padding"
      ],
      "metadata": {
        "id": "ughVDM4fUnhM"
      }
    },
    {
      "cell_type": "code",
      "source": [
        "tokenizer = Tokenizer()\n",
        "tokenizer.fit_on_texts(X)\n",
        "X_seq = tokenizer.texts_to_sequences(X)"
      ],
      "metadata": {
        "id": "bMlbPdKFUnHD"
      },
      "execution_count": 7,
      "outputs": []
    },
    {
      "cell_type": "code",
      "source": [
        "X_pad = pad_sequences(X_seq, maxlen=30)"
      ],
      "metadata": {
        "id": "RyLK9qFYUnDG"
      },
      "execution_count": 8,
      "outputs": []
    },
    {
      "cell_type": "code",
      "source": [
        "X_train, X_test, y_train, y_test = train_test_split(X_pad, y, test_size=0.2, random_state=42)"
      ],
      "metadata": {
        "id": "m6p6TWXMUnAz"
      },
      "execution_count": 9,
      "outputs": []
    },
    {
      "cell_type": "markdown",
      "source": [
        "##### Modeling"
      ],
      "metadata": {
        "id": "DSWFYPwSUtHL"
      }
    },
    {
      "cell_type": "code",
      "source": [
        "model_rnn = Sequential()\n",
        "model_rnn.add(Embedding(input_dim=len(tokenizer.word_index)+1, output_dim=128, input_length=30))    # (25495 + 1) * 128 = 3263488\n",
        "model_rnn.add(SimpleRNN(64, return_sequences=False))                                                # (128 + 64 + 1) * 64 = 12352\n",
        "model_rnn.add(Dense(64, activation='relu'))                                                         # (64 + 1) * 64 = 4160\n",
        "model_rnn.add(Dense(1, activation='linear'))                                                        # (64 + 1) * 1 = 65\n",
        "model_rnn.compile(optimizer='adam', loss='mean_squared_error')\n",
        "model_rnn.summary()"
      ],
      "metadata": {
        "colab": {
          "base_uri": "https://localhost:8080/"
        },
        "id": "z-ZOLepEUtgB",
        "outputId": "2f53ce13-fca4-4c18-d420-dcb5f703519d"
      },
      "execution_count": 10,
      "outputs": [
        {
          "output_type": "stream",
          "name": "stdout",
          "text": [
            "Model: \"sequential\"\n",
            "_________________________________________________________________\n",
            " Layer (type)                Output Shape              Param #   \n",
            "=================================================================\n",
            " embedding (Embedding)       (None, 30, 128)           3263488   \n",
            "                                                                 \n",
            " simple_rnn (SimpleRNN)      (None, 64)                12352     \n",
            "                                                                 \n",
            " dense (Dense)               (None, 64)                4160      \n",
            "                                                                 \n",
            " dense_1 (Dense)             (None, 1)                 65        \n",
            "                                                                 \n",
            "=================================================================\n",
            "Total params: 3280065 (12.51 MB)\n",
            "Trainable params: 3280065 (12.51 MB)\n",
            "Non-trainable params: 0 (0.00 Byte)\n",
            "_________________________________________________________________\n"
          ]
        }
      ]
    },
    {
      "cell_type": "code",
      "source": [
        "model_rnn.fit(X_train, y_train, epochs=10, batch_size=32, validation_split=0.2)"
      ],
      "metadata": {
        "colab": {
          "base_uri": "https://localhost:8080/"
        },
        "id": "xpep5CaaUt6Q",
        "outputId": "b402cf0b-f0a4-4130-ab86-9237f4afb0c1"
      },
      "execution_count": 11,
      "outputs": [
        {
          "output_type": "stream",
          "name": "stdout",
          "text": [
            "Epoch 1/10\n",
            "432/432 [==============================] - 28s 60ms/step - loss: 403361888.0000 - val_loss: 446214528.0000\n",
            "Epoch 2/10\n",
            "432/432 [==============================] - 28s 65ms/step - loss: 378093408.0000 - val_loss: 412115360.0000\n",
            "Epoch 3/10\n",
            "432/432 [==============================] - 27s 62ms/step - loss: 345017248.0000 - val_loss: 379745280.0000\n",
            "Epoch 4/10\n",
            "432/432 [==============================] - 27s 62ms/step - loss: 320970944.0000 - val_loss: 360893184.0000\n",
            "Epoch 5/10\n",
            "432/432 [==============================] - 27s 61ms/step - loss: 368654656.0000 - val_loss: 450487648.0000\n",
            "Epoch 6/10\n",
            "432/432 [==============================] - 25s 58ms/step - loss: 386834304.0000 - val_loss: 427330112.0000\n",
            "Epoch 7/10\n",
            "432/432 [==============================] - 26s 60ms/step - loss: 365097120.0000 - val_loss: 405561728.0000\n",
            "Epoch 8/10\n",
            "432/432 [==============================] - 26s 61ms/step - loss: 343054688.0000 - val_loss: 356252928.0000\n",
            "Epoch 9/10\n",
            "432/432 [==============================] - 26s 61ms/step - loss: 319585440.0000 - val_loss: 380651744.0000\n",
            "Epoch 10/10\n",
            "432/432 [==============================] - 26s 61ms/step - loss: 324454720.0000 - val_loss: 368330496.0000\n"
          ]
        },
        {
          "output_type": "execute_result",
          "data": {
            "text/plain": [
              "<keras.src.callbacks.History at 0x7d49932bca60>"
            ]
          },
          "metadata": {},
          "execution_count": 11
        }
      ]
    },
    {
      "cell_type": "markdown",
      "source": [
        "##### Evaluation"
      ],
      "metadata": {
        "id": "NqO2yJXSUzJ-"
      }
    },
    {
      "cell_type": "code",
      "source": [
        "loss = model_rnn.evaluate(X_test, y_test, verbose=0)\n",
        "print(f'Test Loss: {loss}')\n",
        "\n",
        "y_pred = model_rnn.predict(X_test).flatten()\n",
        "\n",
        "mse = mean_squared_error(y_test, y_pred)\n",
        "print(f'Mean Squared Error (MSE): {mse}')\n",
        "\n",
        "rmse = np.sqrt(mse)\n",
        "print(f'Root Mean Squared Error (RMSE): {rmse}')\n",
        "\n",
        "mae = mean_absolute_error(y_test, y_pred)\n",
        "print(f'Mean Absolute Error (MAE): {mae}')\n",
        "\n",
        "r2 = r2_score(y_test, y_pred)\n",
        "print(f'R-squared (R^2): {r2}')"
      ],
      "metadata": {
        "colab": {
          "base_uri": "https://localhost:8080/"
        },
        "id": "9Lz1pMNaUuPg",
        "outputId": "18b47a34-2f44-452f-fc13-c18a0a64550c"
      },
      "execution_count": 12,
      "outputs": [
        {
          "output_type": "stream",
          "name": "stdout",
          "text": [
            "Test Loss: 392022976.0\n",
            "135/135 [==============================] - 1s 4ms/step\n",
            "Mean Squared Error (MSE): 392022990.8972734\n",
            "Root Mean Squared Error (RMSE): 19799.57047254494\n",
            "Mean Absolute Error (MAE): 6406.823593252677\n",
            "R-squared (R^2): -0.03842723821091387\n"
          ]
        }
      ]
    }
  ]
}