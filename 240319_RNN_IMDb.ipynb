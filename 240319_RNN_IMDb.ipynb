{
  "nbformat": 4,
  "nbformat_minor": 0,
  "metadata": {
    "colab": {
      "provenance": [],
      "authorship_tag": "ABX9TyOyaezGl6Xw24253kfT0TTY"
    },
    "kernelspec": {
      "name": "python3",
      "display_name": "Python 3"
    },
    "language_info": {
      "name": "python"
    }
  },
  "cells": [
    {
      "cell_type": "markdown",
      "source": [
        "### RNN"
      ],
      "metadata": {
        "id": "TYPUn0_3Zlqj"
      }
    },
    {
      "cell_type": "code",
      "execution_count": null,
      "metadata": {
        "id": "iw54ZW7mSWy6"
      },
      "outputs": [],
      "source": [
        "import tensorflow as tf\n",
        "from tensorflow.keras.datasets import imdb\n",
        "from tensorflow.keras.preprocessing import sequence\n",
        "from tensorflow.keras.utils import to_categorical\n",
        "from tensorflow.keras import models, layers\n",
        "from tensorflow.keras.optimizers import RMSprop\n",
        "import matplotlib.pyplot as plt\n",
        "import numpy as np\n",
        "from sklearn.metrics import confusion_matrix, classification_report"
      ]
    },
    {
      "cell_type": "code",
      "source": [
        "# Load dataset\n",
        "max_features = 10000\n",
        "(x_train, y_train), (x_test, y_test) = imdb.load_data(num_words=max_features)"
      ],
      "metadata": {
        "colab": {
          "base_uri": "https://localhost:8080/"
        },
        "id": "4HjxSuqcYvnb",
        "outputId": "de25400a-f365-4db1-83ae-4ba979255d69"
      },
      "execution_count": null,
      "outputs": [
        {
          "output_type": "stream",
          "name": "stdout",
          "text": [
            "Downloading data from https://storage.googleapis.com/tensorflow/tf-keras-datasets/imdb.npz\n",
            "17464789/17464789 [==============================] - 1s 0us/step\n"
          ]
        }
      ]
    },
    {
      "cell_type": "code",
      "source": [
        "# Zero padding\n",
        "max_len = 200\n",
        "x_train = sequence.pad_sequences(x_train, maxlen=max_len)\n",
        "x_test = sequence.pad_sequences(x_test, maxlen=max_len)\n",
        "print(x_train.shape)\n",
        "print(x_test.shape)"
      ],
      "metadata": {
        "colab": {
          "base_uri": "https://localhost:8080/"
        },
        "id": "exI-APgQYvlF",
        "outputId": "251d5234-cbeb-49e0-fcfd-9c673cb97597"
      },
      "execution_count": null,
      "outputs": [
        {
          "output_type": "stream",
          "name": "stdout",
          "text": [
            "(25000, 200)\n",
            "(25000, 200)\n"
          ]
        }
      ]
    },
    {
      "cell_type": "code",
      "source": [
        "# One hot encoding\n",
        "y_train_one_hot = to_categorical(y_train)\n",
        "y_test_one_hot = to_categorical(y_test)"
      ],
      "metadata": {
        "id": "CZYojzSZZVKO"
      },
      "execution_count": null,
      "outputs": []
    },
    {
      "cell_type": "code",
      "source": [
        "# Initilize model\n",
        "model = models.Sequential()\n",
        "model.add(layers.Embedding(max_features, 64, input_length=max_len))\n",
        "model.add(layers.SimpleRNN(32, activation='tanh', return_sequences=False))\n",
        "model.add(layers.Dense(16, activation='tanh'))\n",
        "model.add(layers.Dense(2, activation='softmax'))\n",
        "model.summary()"
      ],
      "metadata": {
        "colab": {
          "base_uri": "https://localhost:8080/"
        },
        "id": "gDlddAcEZsTK",
        "outputId": "8c11e5ca-c3a1-4ced-ccc5-e0186f8d5dd7"
      },
      "execution_count": null,
      "outputs": [
        {
          "output_type": "stream",
          "name": "stdout",
          "text": [
            "Model: \"sequential\"\n",
            "_________________________________________________________________\n",
            " Layer (type)                Output Shape              Param #   \n",
            "=================================================================\n",
            " embedding (Embedding)       (None, 200, 64)           640000    \n",
            "                                                                 \n",
            " simple_rnn (SimpleRNN)      (None, 32)                3104      \n",
            "                                                                 \n",
            " dense (Dense)               (None, 16)                528       \n",
            "                                                                 \n",
            " dense_1 (Dense)             (None, 2)                 34        \n",
            "                                                                 \n",
            "=================================================================\n",
            "Total params: 643666 (2.46 MB)\n",
            "Trainable params: 643666 (2.46 MB)\n",
            "Non-trainable params: 0 (0.00 Byte)\n",
            "_________________________________________________________________\n"
          ]
        }
      ]
    },
    {
      "cell_type": "code",
      "source": [
        "# Fit the model\n",
        "model.compile(optimizer=RMSprop(learning_rate=0.0005), loss='binary_crossentropy', metrics=['accuracy'])\n",
        "history = model.fit(x_train, y_train_one_hot, epochs=10, batch_size=128, validation_split=0.1)"
      ],
      "metadata": {
        "colab": {
          "base_uri": "https://localhost:8080/"
        },
        "id": "8JW7TckbaCxA",
        "outputId": "d0eff046-9274-4da8-f78b-ef20802e9f81"
      },
      "execution_count": null,
      "outputs": [
        {
          "output_type": "stream",
          "name": "stdout",
          "text": [
            "Epoch 1/10\n",
            "176/176 [==============================] - 16s 80ms/step - loss: 0.6029 - accuracy: 0.6660 - val_loss: 0.5422 - val_accuracy: 0.7232\n",
            "Epoch 2/10\n",
            "176/176 [==============================] - 14s 81ms/step - loss: 0.3750 - accuracy: 0.8461 - val_loss: 0.3797 - val_accuracy: 0.8384\n",
            "Epoch 3/10\n",
            "176/176 [==============================] - 14s 79ms/step - loss: 0.2775 - accuracy: 0.8916 - val_loss: 0.3376 - val_accuracy: 0.8548\n",
            "Epoch 4/10\n",
            "176/176 [==============================] - 14s 79ms/step - loss: 0.2093 - accuracy: 0.9228 - val_loss: 0.3431 - val_accuracy: 0.8528\n",
            "Epoch 5/10\n",
            "176/176 [==============================] - 14s 82ms/step - loss: 0.1515 - accuracy: 0.9473 - val_loss: 0.3630 - val_accuracy: 0.8688\n",
            "Epoch 6/10\n",
            "176/176 [==============================] - 14s 78ms/step - loss: 0.1005 - accuracy: 0.9668 - val_loss: 0.4509 - val_accuracy: 0.8396\n",
            "Epoch 7/10\n",
            "176/176 [==============================] - 14s 78ms/step - loss: 0.0595 - accuracy: 0.9823 - val_loss: 0.4551 - val_accuracy: 0.8768\n",
            "Epoch 8/10\n",
            "176/176 [==============================] - 17s 96ms/step - loss: 0.0368 - accuracy: 0.9895 - val_loss: 0.5260 - val_accuracy: 0.8384\n",
            "Epoch 9/10\n",
            "176/176 [==============================] - 24s 133ms/step - loss: 0.0200 - accuracy: 0.9944 - val_loss: 0.5627 - val_accuracy: 0.8652\n",
            "Epoch 10/10\n",
            "176/176 [==============================] - 16s 89ms/step - loss: 0.0134 - accuracy: 0.9964 - val_loss: 0.6197 - val_accuracy: 0.8548\n"
          ]
        }
      ]
    },
    {
      "cell_type": "code",
      "source": [
        "# Visualize the fitting process\n",
        "plt.plot(history.history['loss'])\n",
        "plt.plot(history.history['val_loss'])\n",
        "plt.xlabel('epoch')\n",
        "plt.ylabel('loss')\n",
        "plt.legend(['train', 'test'])\n",
        "plt.show()"
      ],
      "metadata": {
        "colab": {
          "base_uri": "https://localhost:8080/",
          "height": 449
        },
        "id": "46UMUVgWaSRY",
        "outputId": "305e7611-987f-488e-dc8a-3ae5ca7352f4"
      },
      "execution_count": null,
      "outputs": [
        {
          "output_type": "display_data",
          "data": {
            "text/plain": [
              "<Figure size 640x480 with 1 Axes>"
            ],
            "image/png": "[encoded data removed]"
          },
          "metadata": {}
        }
      ]
    },
    {
      "cell_type": "code",
      "source": [
        "# Evaluate the model\n",
        "test_loss, test_acc = model.evaluate(x_test, y_test_one_hot)\n",
        "print('Test Accuracy:', test_acc)"
      ],
      "metadata": {
        "colab": {
          "base_uri": "https://localhost:8080/"
        },
        "id": "pAupEXtMacQj",
        "outputId": "41285403-1721-43ed-caa0-eecfc1718eb7"
      },
      "execution_count": null,
      "outputs": [
        {
          "output_type": "stream",
          "name": "stdout",
          "text": [
            "782/782 [==============================] - 10s 13ms/step - loss: 0.6744 - accuracy: 0.8470\n",
            "Test Accuracy: 0.8469600081443787\n"
          ]
        }
      ]
    },
    {
      "cell_type": "code",
      "source": [
        "# Print confusion matrix and classifiction report\n",
        "preds = model.predict(x_test)\n",
        "labels = [0, 1]\n",
        "preds = [labels[np.argmax(probs)] for probs in preds]\n",
        "print(confusion_matrix(y_test, preds), '\\n')\n",
        "print(classification_report(y_test, preds))"
      ],
      "metadata": {
        "colab": {
          "base_uri": "https://localhost:8080/"
        },
        "id": "PFRLna8vak1k",
        "outputId": "e79c2a94-adfe-4862-acd4-d27600b0c705"
      },
      "execution_count": null,
      "outputs": [
        {
          "output_type": "stream",
          "name": "stdout",
          "text": [
            "782/782 [==============================] - 10s 13ms/step\n",
            "[[10636  1864]\n",
            " [ 1962 10538]] \n",
            "\n",
            "              precision    recall  f1-score   support\n",
            "\n",
            "           0       0.84      0.85      0.85     12500\n",
            "           1       0.85      0.84      0.85     12500\n",
            "\n",
            "    accuracy                           0.85     25000\n",
            "   macro avg       0.85      0.85      0.85     25000\n",
            "weighted avg       0.85      0.85      0.85     25000\n",
            "\n"
          ]
        }
      ]
    }
  ]
}