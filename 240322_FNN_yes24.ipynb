{
  "nbformat": 4,
  "nbformat_minor": 0,
  "metadata": {
    "colab": {
      "provenance": [],
      "authorship_tag": "ABX9TyNSX6Q3WzmONFSoxc/UjOED"
    },
    "kernelspec": {
      "name": "python3",
      "display_name": "Python 3"
    },
    "language_info": {
      "name": "python"
    }
  },
  "cells": [
    {
      "cell_type": "markdown",
      "source": [
        "### 책의 제목을 보고 책의 가격을 예측하기"
      ],
      "metadata": {
        "id": "_q1hkWwxrJdf"
      }
    },
    {
      "cell_type": "code",
      "execution_count": 15,
      "metadata": {
        "id": "9cKk6iVKo-Wc"
      },
      "outputs": [],
      "source": [
        "import pandas as pd\n",
        "import numpy as np\n",
        "import matplotlib.pyplot as plt\n",
        "import seaborn as sns\n",
        "from tensorflow.keras.preprocessing.text import Tokenizer\n",
        "from tensorflow.keras.preprocessing.sequence import pad_sequences\n",
        "from sklearn.model_selection import train_test_split\n",
        "from tensorflow.keras.models import Sequential\n",
        "from tensorflow.keras.layers import Dense, Embedding, Flatten"
      ]
    },
    {
      "cell_type": "markdown",
      "source": [
        "##### Load dataset"
      ],
      "metadata": {
        "id": "iCYwGB17r1KB"
      }
    },
    {
      "cell_type": "code",
      "source": [
        "from google.colab import drive\n",
        "drive.mount('/content/drive')"
      ],
      "metadata": {
        "colab": {
          "base_uri": "https://localhost:8080/"
        },
        "id": "uKwQMq5upTii",
        "outputId": "8b4175da-b0ba-4acc-8aec-e59935ae927c"
      },
      "execution_count": 2,
      "outputs": [
        {
          "output_type": "stream",
          "name": "stdout",
          "text": [
            "Mounted at /content/drive\n"
          ]
        }
      ]
    },
    {
      "cell_type": "code",
      "source": [
        "path = '/content/drive/MyDrive/Samples/book.csv'\n",
        "df_1 = pd.read_csv(path, encoding='euc-kr')"
      ],
      "metadata": {
        "id": "fuLsia50pKSL"
      },
      "execution_count": 9,
      "outputs": []
    },
    {
      "cell_type": "markdown",
      "source": [
        "\n",
        "##### Data Preprocessing"
      ],
      "metadata": {
        "id": "97z00LI9r5Ny"
      }
    },
    {
      "cell_type": "code",
      "source": [
        "df_1.dropna(subset=['Title', 'Price'], inplace=True)"
      ],
      "metadata": {
        "id": "oW3AzbV3pat8"
      },
      "execution_count": 11,
      "outputs": []
    },
    {
      "cell_type": "code",
      "source": [
        "df_1['Price'] = pd.to_numeric(df_1['Price'].str.replace('[^\\d.]', ''), errors='coerce')"
      ],
      "metadata": {
        "colab": {
          "base_uri": "https://localhost:8080/"
        },
        "id": "lMYdbjvlphST",
        "outputId": "857f260f-106a-4ccc-f9d3-c20ea56c49e7"
      },
      "execution_count": 12,
      "outputs": [
        {
          "output_type": "stream",
          "name": "stderr",
          "text": [
            "<ipython-input-12-523ef0a088cc>:1: FutureWarning: The default value of regex will change from True to False in a future version.\n",
            "  df_1['Price'] = pd.to_numeric(df_1['Price'].str.replace('[^\\d.]', ''), errors='coerce')\n"
          ]
        }
      ]
    },
    {
      "cell_type": "code",
      "source": [
        "df = df_1[df_1['Title'].str.contains('[가-힣]', regex=True)]"
      ],
      "metadata": {
        "id": "EmtmkLlMqWEC"
      },
      "execution_count": 13,
      "outputs": []
    },
    {
      "cell_type": "code",
      "source": [
        "X = df['Title']\n",
        "y = df['Price']"
      ],
      "metadata": {
        "id": "BnNd26YFqqqZ"
      },
      "execution_count": 14,
      "outputs": []
    },
    {
      "cell_type": "markdown",
      "source": [
        "##### Tokenization, Vectorization\n",
        "\n",
        "**토큰화**: 문장을 단어별로 나누는 것 (형태소로 분석하고 나누는 것)\n",
        "\n",
        "ex) 가방 / 에 / 들어가 / 시 / ㄴ다\n",
        "\n",
        "**벡터화**: 단어를 추출하여 수치화하는 것 (토큰화된 텍스트를 벡터로 변환하는 것)\n",
        "\n",
        "one-hot encoding: 각 단어를 하나의 인덱스가 1이고 나머지는 0인 벡터로 표현\n",
        "\n",
        "word embedding: 각 단어를 고정된 크기의 벡터로 표현"
      ],
      "metadata": {
        "id": "J9_KTHR9rl4Y"
      }
    },
    {
      "cell_type": "code",
      "source": [
        "tokenizer = Tokenizer()\n",
        "tokenizer.fit_on_texts(X)\n",
        "X_seq = tokenizer.texts_to_sequences(X)"
      ],
      "metadata": {
        "id": "EXpzydbmqqoS"
      },
      "execution_count": 16,
      "outputs": []
    },
    {
      "cell_type": "code",
      "source": [
        "X_pad = pad_sequences(X_seq, maxlen=30)"
      ],
      "metadata": {
        "id": "2ty89p9YtN8u"
      },
      "execution_count": 18,
      "outputs": []
    },
    {
      "cell_type": "code",
      "source": [
        "X_train, X_test, y_train, y_test = train_test_split(X_pad, y, test_size=0.2, random_state=42)"
      ],
      "metadata": {
        "id": "Q9s1YmBUw6oH"
      },
      "execution_count": 19,
      "outputs": []
    },
    {
      "cell_type": "markdown",
      "source": [
        "##### Modeling"
      ],
      "metadata": {
        "id": "scd8OuyjxRax"
      }
    },
    {
      "cell_type": "code",
      "source": [
        "model_fnn = Sequential()\n",
        "model_fnn.add(Embedding(input_dim=len(tokenizer.word_index)+1, output_dim=128, input_length=30))\n",
        "model_fnn.add(Flatten())\n",
        "model_fnn.add(Dense(64, activation='relu'))\n",
        "model_fnn.add(Dense(1, activation='linear'))\n",
        "model_fnn.compile(optimizer='adam', loss='mean_squared_error')\n",
        "model_fnn.summary()"
      ],
      "metadata": {
        "colab": {
          "base_uri": "https://localhost:8080/"
        },
        "id": "gNF5XCaixKAS",
        "outputId": "9f4379bc-e123-4bd2-ba98-fc635a68249e"
      },
      "execution_count": 21,
      "outputs": [
        {
          "output_type": "stream",
          "name": "stdout",
          "text": [
            "Model: \"sequential_1\"\n",
            "_________________________________________________________________\n",
            " Layer (type)                Output Shape              Param #   \n",
            "=================================================================\n",
            " embedding_1 (Embedding)     (None, 30, 128)           3263488   \n",
            "                                                                 \n",
            " flatten_1 (Flatten)         (None, 3840)              0         \n",
            "                                                                 \n",
            " dense_2 (Dense)             (None, 64)                245824    \n",
            "                                                                 \n",
            " dense_3 (Dense)             (None, 1)                 65        \n",
            "                                                                 \n",
            "=================================================================\n",
            "Total params: 3509377 (13.39 MB)\n",
            "Trainable params: 3509377 (13.39 MB)\n",
            "Non-trainable params: 0 (0.00 Byte)\n",
            "_________________________________________________________________\n"
          ]
        }
      ]
    },
    {
      "cell_type": "code",
      "source": [
        "model_fnn.fit(X_train, y_train, epochs=10, batch_size=32, validation_split=0.2)"
      ],
      "metadata": {
        "colab": {
          "base_uri": "https://localhost:8080/"
        },
        "id": "2xX4fwe_zlst",
        "outputId": "612408ec-94e3-4c4e-a081-9fe654943acd"
      },
      "execution_count": 23,
      "outputs": [
        {
          "output_type": "stream",
          "name": "stdout",
          "text": [
            "Epoch 1/10\n",
            "432/432 [==============================] - 25s 56ms/step - loss: 345946208.0000 - val_loss: 355361568.0000\n",
            "Epoch 2/10\n",
            "432/432 [==============================] - 23s 54ms/step - loss: 307012448.0000 - val_loss: 351624992.0000\n",
            "Epoch 3/10\n",
            "432/432 [==============================] - 24s 55ms/step - loss: 301626848.0000 - val_loss: 345766528.0000\n",
            "Epoch 4/10\n",
            "432/432 [==============================] - 26s 60ms/step - loss: 292290880.0000 - val_loss: 337047264.0000\n",
            "Epoch 5/10\n",
            "432/432 [==============================] - 24s 55ms/step - loss: 278695680.0000 - val_loss: 326960768.0000\n",
            "Epoch 6/10\n",
            "432/432 [==============================] - 23s 54ms/step - loss: 263498768.0000 - val_loss: 318628800.0000\n",
            "Epoch 7/10\n",
            "432/432 [==============================] - 24s 56ms/step - loss: 249596720.0000 - val_loss: 312755584.0000\n",
            "Epoch 8/10\n",
            "432/432 [==============================] - 25s 57ms/step - loss: 236985008.0000 - val_loss: 309886912.0000\n",
            "Epoch 9/10\n",
            "432/432 [==============================] - 24s 56ms/step - loss: 225912880.0000 - val_loss: 307198016.0000\n",
            "Epoch 10/10\n",
            "432/432 [==============================] - 25s 57ms/step - loss: 215693008.0000 - val_loss: 306013472.0000\n"
          ]
        },
        {
          "output_type": "execute_result",
          "data": {
            "text/plain": [
              "<keras.src.callbacks.History at 0x7b42b0dc8f70>"
            ]
          },
          "metadata": {},
          "execution_count": 23
        }
      ]
    },
    {
      "cell_type": "markdown",
      "source": [
        "##### Evaluation"
      ],
      "metadata": {
        "id": "zs1tGBf01ZY0"
      }
    },
    {
      "cell_type": "code",
      "source": [
        "from sklearn.metrics import mean_squared_error, mean_absolute_error, r2_score"
      ],
      "metadata": {
        "id": "XbY-X0RQ1_8r"
      },
      "execution_count": 24,
      "outputs": []
    },
    {
      "cell_type": "code",
      "source": [
        "loss = model_fnn.evaluate(X_test, y_test, verbose=0)\n",
        "print(f'Test Loss: {loss}')\n",
        "\n",
        "y_pred = model_fnn.predict(X_test).flatten()\n",
        "\n",
        "mse = mean_squared_error(y_test, y_pred)\n",
        "print(f'Mean Squared Error (MSE): {mse}')\n",
        "\n",
        "rmse = np.sqrt(mse)\n",
        "print(f'Root Mean Squared Error (RMSE): {rmse}')\n",
        "\n",
        "mae = mean_absolute_error(y_test, y_pred)\n",
        "print(f'Mean Absolute Error (MAE): {mae}')\n",
        "\n",
        "r2 = r2_score(y_test, y_pred)\n",
        "print(f'R-sqared (R^2): {r2}')"
      ],
      "metadata": {
        "colab": {
          "base_uri": "https://localhost:8080/"
        },
        "id": "9KK9MR05z-hu",
        "outputId": "e637f744-c7bc-452e-9e56-af76705563c1"
      },
      "execution_count": 25,
      "outputs": [
        {
          "output_type": "stream",
          "name": "stdout",
          "text": [
            "Test Loss: 336550208.0\n",
            "135/135 [==============================] - 1s 4ms/step\n",
            "Mean Squared Error (MSE): 336550262.4616745\n",
            "Root Mean Squared Error (RMSE): 18345.306278764456\n",
            "Mean Absolute Error (MAE): 6779.866832116357\n",
            "R-squared (R^2): 0.10851412370655034\n"
          ]
        }
      ]
    },
    {
      "cell_type": "code",
      "source": [
        "y_pred"
      ],
      "metadata": {
        "colab": {
          "base_uri": "https://localhost:8080/"
        },
        "id": "dyBc9A5K2F14",
        "outputId": "e22e604f-0673-4443-bd99-baf18cc3908e"
      },
      "execution_count": 26,
      "outputs": [
        {
          "output_type": "execute_result",
          "data": {
            "text/plain": [
              "array([ 8438.515 ,  7607.8726,  5258.3374, ...,  8050.1753,  6341.824 ,\n",
              "       10663.306 ], dtype=float32)"
            ]
          },
          "metadata": {},
          "execution_count": 26
        }
      ]
    },
    {
      "cell_type": "code",
      "source": [
        "df['Price'].mean()"
      ],
      "metadata": {
        "colab": {
          "base_uri": "https://localhost:8080/"
        },
        "id": "n3ErEblv2Rb6",
        "outputId": "047adce5-2f87-4a0f-cb02-59cf4b290339"
      },
      "execution_count": 27,
      "outputs": [
        {
          "output_type": "execute_result",
          "data": {
            "text/plain": [
              "10204.678457335987"
            ]
          },
          "metadata": {},
          "execution_count": 27
        }
      ]
    }
  ]
}
