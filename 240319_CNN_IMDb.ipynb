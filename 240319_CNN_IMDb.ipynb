{
  "nbformat": 4,
  "nbformat_minor": 0,
  "metadata": {
    "colab": {
      "provenance": [],
      "authorship_tag": "ABX9TyMDuBVLB2/Nz38ijV9Po4GT"
    },
    "kernelspec": {
      "name": "python3",
      "display_name": "Python 3"
    },
    "language_info": {
      "name": "python"
    }
  },
  "cells": [
    {
      "cell_type": "code",
      "execution_count": 1,
      "metadata": {
        "id": "kKu1B2tbXkX6"
      },
      "outputs": [],
      "source": [
        "from tensorflow.keras.datasets import imdb\n",
        "from tensorflow.keras.preprocessing import sequence\n",
        "from tensorflow.keras.utils import to_categorical\n",
        "from tensorflow.keras.models import Sequential\n",
        "from tensorflow.keras import layers\n",
        "from tensorflow.keras.optimizers import RMSprop\n",
        "import matplotlib.pyplot as plt"
      ]
    },
    {
      "cell_type": "code",
      "source": [
        "# Load dataset\n",
        "max_features = 10000\n",
        "(x_train, y_train), (x_test, y_test) = imdb.load_data(num_words=max_features)"
      ],
      "metadata": {
        "id": "6udr8fiUYIC4"
      },
      "execution_count": 4,
      "outputs": []
    },
    {
      "cell_type": "code",
      "source": [
        "# Zero padding\n",
        "max_len = 500\n",
        "x_train = sequence.pad_sequences(x_train, maxlen=max_len)\n",
        "x_test = sequence.pad_sequences(x_test, maxlen=max_len)"
      ],
      "metadata": {
        "id": "UqnBWB2-YSXh"
      },
      "execution_count": 5,
      "outputs": []
    },
    {
      "cell_type": "code",
      "source": [
        "# One hot encoding\n",
        "y_train_one_hot = to_categorical(y_train)\n",
        "y_test_one_hot = to_categorical(y_test)"
      ],
      "metadata": {
        "id": "PFSh-bTlYn0H"
      },
      "execution_count": 6,
      "outputs": []
    },
    {
      "cell_type": "code",
      "source": [
        "# Initialize model\n",
        "model = Sequential()\n",
        "model.add(layers.Embedding(max_features, 128, input_length=max_len))    # document size = 500 x 128 x 1\n",
        "model.add(layers.Conv1D(32, 7, activation='relu'))                      # filter size = 7 x 128 x 1\n",
        "model.add(layers.MaxPool1D(5))                                          # filter size = 5 x 1, stride = 5\n",
        "model.add(layers.Flatten())\n",
        "model.add(layers.Dense(32, activation='relu'))\n",
        "model.add(layers.Dense(2, activation='softmax'))\n",
        "model.summary()"
      ],
      "metadata": {
        "colab": {
          "base_uri": "https://localhost:8080/"
        },
        "id": "htlBMSN6Yu2X",
        "outputId": "f3608233-6e2f-4827-9c55-6044b3e5b859"
      },
      "execution_count": 7,
      "outputs": [
        {
          "output_type": "stream",
          "name": "stdout",
          "text": [
            "Model: \"sequential\"\n",
            "_________________________________________________________________\n",
            " Layer (type)                Output Shape              Param #   \n",
            "=================================================================\n",
            " embedding (Embedding)       (None, 500, 128)          1280000   \n",
            "                                                                 \n",
            " conv1d (Conv1D)             (None, 494, 32)           28704     \n",
            "                                                                 \n",
            " max_pooling1d (MaxPooling1  (None, 98, 32)            0         \n",
            " D)                                                              \n",
            "                                                                 \n",
            " flatten (Flatten)           (None, 3136)              0         \n",
            "                                                                 \n",
            " dense (Dense)               (None, 32)                100384    \n",
            "                                                                 \n",
            " dense_1 (Dense)             (None, 2)                 66        \n",
            "                                                                 \n",
            "=================================================================\n",
            "Total params: 1409154 (5.38 MB)\n",
            "Trainable params: 1409154 (5.38 MB)\n",
            "Non-trainable params: 0 (0.00 Byte)\n",
            "_________________________________________________________________\n"
          ]
        }
      ]
    },
    {
      "cell_type": "code",
      "source": [
        "# Fit the model\n",
        "model.compile(optimizer=RMSprop(learning_rate=0.001), loss='binary_crossentropy', metrics=['accuracy'])\n",
        "history = model.fit(x_train, y_train_one_hot, epochs=10, batch_size=128, validation_split=0.2)"
      ],
      "metadata": {
        "colab": {
          "base_uri": "https://localhost:8080/"
        },
        "id": "Yf3mGv1kZNAZ",
        "outputId": "aaab0717-c0cf-4217-b214-97824d760ae4"
      },
      "execution_count": 8,
      "outputs": [
        {
          "output_type": "stream",
          "name": "stdout",
          "text": [
            "Epoch 1/10\n",
            "157/157 [==============================] - 100s 632ms/step - loss: 0.6682 - accuracy: 0.5709 - val_loss: 0.7178 - val_accuracy: 0.5728\n",
            "Epoch 2/10\n",
            "157/157 [==============================] - 66s 421ms/step - loss: 0.3875 - accuracy: 0.8276 - val_loss: 0.3198 - val_accuracy: 0.8654\n",
            "Epoch 3/10\n",
            "157/157 [==============================] - 67s 427ms/step - loss: 0.2634 - accuracy: 0.8926 - val_loss: 0.3034 - val_accuracy: 0.8742\n",
            "Epoch 4/10\n",
            "157/157 [==============================] - 63s 400ms/step - loss: 0.2089 - accuracy: 0.9204 - val_loss: 0.2833 - val_accuracy: 0.8826\n",
            "Epoch 5/10\n",
            "157/157 [==============================] - 67s 428ms/step - loss: 0.1666 - accuracy: 0.9374 - val_loss: 0.2920 - val_accuracy: 0.8850\n",
            "Epoch 6/10\n",
            "157/157 [==============================] - 64s 405ms/step - loss: 0.1298 - accuracy: 0.9540 - val_loss: 0.3423 - val_accuracy: 0.8748\n",
            "Epoch 7/10\n",
            "157/157 [==============================] - 62s 392ms/step - loss: 0.0921 - accuracy: 0.9694 - val_loss: 0.3537 - val_accuracy: 0.8826\n",
            "Epoch 8/10\n",
            "157/157 [==============================] - 62s 398ms/step - loss: 0.0656 - accuracy: 0.9780 - val_loss: 0.4270 - val_accuracy: 0.8754\n",
            "Epoch 9/10\n",
            "157/157 [==============================] - 62s 395ms/step - loss: 0.0421 - accuracy: 0.9870 - val_loss: 0.4773 - val_accuracy: 0.8744\n",
            "Epoch 10/10\n",
            "157/157 [==============================] - 60s 384ms/step - loss: 0.0254 - accuracy: 0.9926 - val_loss: 0.4794 - val_accuracy: 0.8846\n"
          ]
        }
      ]
    },
    {
      "cell_type": "code",
      "source": [
        "# Visualize the loss in fitting progress\n",
        "plt.plot(history.history['loss'])\n",
        "plt.plot(history.history['val_loss'])\n",
        "plt.xlabel('epoch')\n",
        "plt.ylabel('loss')\n",
        "plt.legend(['train', 'val'])\n",
        "plt.show()"
      ],
      "metadata": {
        "colab": {
          "base_uri": "https://localhost:8080/",
          "height": 449
        },
        "id": "IEMGNPaUZfrK",
        "outputId": "bdc6869e-68e7-4dfa-90a2-1fe190fa994f"
      },
      "execution_count": 9,
      "outputs": [
        {
          "output_type": "display_data",
          "data": {
            "text/plain": [
              "<Figure size 640x480 with 1 Axes>"
            ],
            "image/png": "[encoded data removed]"
          },
          "metadata": {}
        }
      ]
    },
    {
      "cell_type": "code",
      "source": [
        "# Evaluate the model\n",
        "test_loss, test_acc = model.evaluate(x_test, y_test_one_hot)\n",
        "print('Test Accuracy:', test_acc)"
      ],
      "metadata": {
        "colab": {
          "base_uri": "https://localhost:8080/"
        },
        "id": "rkqWlTvnZsbV",
        "outputId": "fad329e9-05a4-48e9-84ae-620734e3abdf"
      },
      "execution_count": 10,
      "outputs": [
        {
          "output_type": "stream",
          "name": "stdout",
          "text": [
            "782/782 [==============================] - 18s 23ms/step - loss: 0.5160 - accuracy: 0.8703\n",
            "Test Accuracy: 0.8702800273895264\n"
          ]
        }
      ]
    }
  ]
}