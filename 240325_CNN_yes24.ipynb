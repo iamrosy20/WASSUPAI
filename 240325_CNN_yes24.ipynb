{
  "nbformat": 4,
  "nbformat_minor": 0,
  "metadata": {
    "colab": {
      "provenance": [],
      "authorship_tag": "ABX9TyNfMTO/5nF7/ysUQu2VOIRj"
    },
    "kernelspec": {
      "name": "python3",
      "display_name": "Python 3"
    },
    "language_info": {
      "name": "python"
    }
  },
  "cells": [
    {
      "cell_type": "markdown",
      "source": [
        "### **책의 제목을 보고 책의 가격을 예측하기**"
      ],
      "metadata": {
        "id": "Rjb8J2KtQFVc"
      }
    },
    {
      "cell_type": "code",
      "execution_count": 1,
      "metadata": {
        "id": "Ub193m6-Ptjj"
      },
      "outputs": [],
      "source": [
        "import pandas as pd\n",
        "import numpy as np\n",
        "import matplotlib.pyplot as plt\n",
        "import seaborn as sns\n",
        "from tensorflow.keras.preprocessing.text import Tokenizer\n",
        "from tensorflow.keras.preprocessing.sequence import pad_sequences\n",
        "from sklearn.model_selection import train_test_split\n",
        "from tensorflow.keras.models import Sequential\n",
        "from tensorflow.keras.layers import Embedding, Conv1D, MaxPooling1D, GlobalMaxPooling1D, Dense, Flatten\n",
        "from sklearn.metrics import mean_squared_error, mean_absolute_error, r2_score"
      ]
    },
    {
      "cell_type": "markdown",
      "source": [
        "##### Load dataset"
      ],
      "metadata": {
        "id": "8OQRV-kgQNRB"
      }
    },
    {
      "cell_type": "code",
      "source": [
        "from google.colab import drive\n",
        "drive.mount('/content/drive')"
      ],
      "metadata": {
        "colab": {
          "base_uri": "https://localhost:8080/"
        },
        "id": "JUPdZapOQMqc",
        "outputId": "b2f06fc8-a58e-41fe-9a9c-18abde0743f0"
      },
      "execution_count": 2,
      "outputs": [
        {
          "output_type": "stream",
          "name": "stdout",
          "text": [
            "Mounted at /content/drive\n"
          ]
        }
      ]
    },
    {
      "cell_type": "code",
      "source": [
        "path = '/content/drive/MyDrive/Samples/book.csv'\n",
        "df_1 = pd.read_csv(path, encoding='euc-kr')"
      ],
      "metadata": {
        "id": "XeadOBGGQSEu"
      },
      "execution_count": 3,
      "outputs": []
    },
    {
      "cell_type": "markdown",
      "source": [
        "##### Data Preprocessing"
      ],
      "metadata": {
        "id": "YNP_DovjQSZl"
      }
    },
    {
      "cell_type": "code",
      "source": [
        "df_1.dropna(subset=['Title', 'Price'], inplace=True)\n",
        "df_1['Price'] = pd.to_numeric(df_1['Price'].str.replace('[^\\d.]', ''), errors='coerce')"
      ],
      "metadata": {
        "colab": {
          "base_uri": "https://localhost:8080/"
        },
        "id": "IFMfsQtbQZTd",
        "outputId": "e6b8f0c7-a6f1-429e-e106-c2b3317e6dc4"
      },
      "execution_count": 4,
      "outputs": [
        {
          "output_type": "stream",
          "name": "stderr",
          "text": [
            "<ipython-input-4-4119198d3120>:2: FutureWarning: The default value of regex will change from True to False in a future version.\n",
            "  df_1['Price'] = pd.to_numeric(df_1['Price'].str.replace('[^\\d.]', ''), errors='coerce')\n"
          ]
        }
      ]
    },
    {
      "cell_type": "code",
      "source": [
        "df = df_1[df_1['Title'].str.contains('[가-힣]', regex=True)]"
      ],
      "metadata": {
        "id": "LLSclTPnRX5r"
      },
      "execution_count": 5,
      "outputs": []
    },
    {
      "cell_type": "code",
      "source": [
        "X = df['Title']\n",
        "y = df['Price']"
      ],
      "metadata": {
        "id": "HZkmynjnRZne"
      },
      "execution_count": 6,
      "outputs": []
    },
    {
      "cell_type": "markdown",
      "source": [
        "##### Tokenization, Vectorization, Padding"
      ],
      "metadata": {
        "id": "Nfix-PwGQdH7"
      }
    },
    {
      "cell_type": "code",
      "source": [
        "tokenizer = Tokenizer()\n",
        "tokenizer.fit_on_texts(X)\n",
        "X_seq = tokenizer.texts_to_sequences(X)"
      ],
      "metadata": {
        "id": "ID1DbxroQZPr"
      },
      "execution_count": 7,
      "outputs": []
    },
    {
      "cell_type": "code",
      "source": [
        "X_pad = pad_sequences(X_seq, maxlen=30)"
      ],
      "metadata": {
        "id": "TJ7tPMmgQqQV"
      },
      "execution_count": 8,
      "outputs": []
    },
    {
      "cell_type": "code",
      "source": [
        "X_train, X_test, y_train, y_test = train_test_split(X_pad, y, test_size=0.2, random_state=42)"
      ],
      "metadata": {
        "id": "OtSqQrhHQrR1"
      },
      "execution_count": 9,
      "outputs": []
    },
    {
      "cell_type": "markdown",
      "source": [
        "##### Modeling"
      ],
      "metadata": {
        "id": "-1TKg6BSQtqm"
      }
    },
    {
      "cell_type": "code",
      "source": [
        "model_cnn = Sequential()\n",
        "model_cnn.add(Embedding(input_dim=len(tokenizer.word_index)+1, output_dim=128, input_length=30))    # (25495 + 1) * 128 = 3263488\n",
        "model_cnn.add(Conv1D(filters=64, kernel_size=5, activation='relu'))                                 # (30 - 5) / 1 + 1= 26, (5 * 128 + 1) * 64 = 41024\n",
        "model_cnn.add(MaxPooling1D(pool_size=2))                                                            # (26 - 2) / 2 + 1 = 13\n",
        "model_cnn.add(Conv1D(filters=32, kernel_size=3, activation='relu'))                                 # (13 - 3) / 1 + 1 = 11, ((3 * 64 + 1) * 32 = 6176\n",
        "model_cnn.add(GlobalMaxPooling1D())                                                                 # 1 * 32 = 32\n",
        "model_cnn.add(Dense(64, activation='relu'))                                                         # (32 + 1) * 64 = 2112\n",
        "model_cnn.add(Dense(1, activation='linear'))                                                        # (64 + 1) * 1 = 65\n",
        "model_cnn.compile(optimizer='adam', loss='mean_squared_error')\n",
        "model_cnn.summary()"
      ],
      "metadata": {
        "colab": {
          "base_uri": "https://localhost:8080/"
        },
        "id": "Pd2dwaD8QvQq",
        "outputId": "e17c9416-bcb0-449b-b229-ddfe77d05192"
      },
      "execution_count": 10,
      "outputs": [
        {
          "output_type": "stream",
          "name": "stdout",
          "text": [
            "Model: \"sequential\"\n",
            "_________________________________________________________________\n",
            " Layer (type)                Output Shape              Param #   \n",
            "=================================================================\n",
            " embedding (Embedding)       (None, 30, 128)           3263488   \n",
            "                                                                 \n",
            " conv1d (Conv1D)             (None, 26, 64)            41024     \n",
            "                                                                 \n",
            " max_pooling1d (MaxPooling1  (None, 13, 64)            0         \n",
            " D)                                                              \n",
            "                                                                 \n",
            " conv1d_1 (Conv1D)           (None, 11, 32)            6176      \n",
            "                                                                 \n",
            " global_max_pooling1d (Glob  (None, 32)                0         \n",
            " alMaxPooling1D)                                                 \n",
            "                                                                 \n",
            " dense (Dense)               (None, 64)                2112      \n",
            "                                                                 \n",
            " dense_1 (Dense)             (None, 1)                 65        \n",
            "                                                                 \n",
            "=================================================================\n",
            "Total params: 3312865 (12.64 MB)\n",
            "Trainable params: 3312865 (12.64 MB)\n",
            "Non-trainable params: 0 (0.00 Byte)\n",
            "_________________________________________________________________\n"
          ]
        }
      ]
    },
    {
      "cell_type": "code",
      "source": [
        "model_cnn.fit(X_train, y_train, epochs=10, batch_size=32, validation_split=0.2)"
      ],
      "metadata": {
        "colab": {
          "base_uri": "https://localhost:8080/"
        },
        "id": "qlfjHS5vQwWe",
        "outputId": "272f9bd8-c64e-44c3-ead1-b0e12c029028"
      },
      "execution_count": 11,
      "outputs": [
        {
          "output_type": "stream",
          "name": "stdout",
          "text": [
            "Epoch 1/10\n",
            "432/432 [==============================] - 28s 60ms/step - loss: 325937792.0000 - val_loss: 350262208.0000\n",
            "Epoch 2/10\n",
            "432/432 [==============================] - 27s 62ms/step - loss: 287245280.0000 - val_loss: 318431904.0000\n",
            "Epoch 3/10\n",
            "432/432 [==============================] - 27s 62ms/step - loss: 248286464.0000 - val_loss: 306211168.0000\n",
            "Epoch 4/10\n",
            "432/432 [==============================] - 27s 62ms/step - loss: 210738576.0000 - val_loss: 297977952.0000\n",
            "Epoch 5/10\n",
            "432/432 [==============================] - 26s 61ms/step - loss: 173073904.0000 - val_loss: 295101216.0000\n",
            "Epoch 6/10\n",
            "432/432 [==============================] - 26s 61ms/step - loss: 135568672.0000 - val_loss: 294449600.0000\n",
            "Epoch 7/10\n",
            "432/432 [==============================] - 27s 63ms/step - loss: 105309336.0000 - val_loss: 293739744.0000\n",
            "Epoch 8/10\n",
            "432/432 [==============================] - 27s 62ms/step - loss: 82956816.0000 - val_loss: 291262048.0000\n",
            "Epoch 9/10\n",
            "432/432 [==============================] - 26s 61ms/step - loss: 65175380.0000 - val_loss: 305193152.0000\n",
            "Epoch 10/10\n",
            "432/432 [==============================] - 23s 54ms/step - loss: 51523112.0000 - val_loss: 300068192.0000\n"
          ]
        },
        {
          "output_type": "execute_result",
          "data": {
            "text/plain": [
              "<keras.src.callbacks.History at 0x7a8f20f014b0>"
            ]
          },
          "metadata": {},
          "execution_count": 11
        }
      ]
    },
    {
      "cell_type": "markdown",
      "source": [
        "##### Evaluation"
      ],
      "metadata": {
        "id": "yE_3VJD5Qzns"
      }
    },
    {
      "cell_type": "code",
      "source": [
        "loss = model_cnn.evaluate(X_test, y_test, verbose=0)\n",
        "print(f'Test Loss: {loss}')\n",
        "\n",
        "y_pred = model_cnn.predict(X_test).flatten()\n",
        "\n",
        "mse = mean_squared_error(y_test, y_pred)\n",
        "print(f'Mean Squared Error (MSE): {mse}')\n",
        "\n",
        "rmse = np.sqrt(mse)\n",
        "print(f'Root Mean Squared Error (RMSE): {rmse}')\n",
        "\n",
        "mae = mean_absolute_error(y_test, y_pred)\n",
        "print(f'Mean Absolute Error (MAE): {mae}')\n",
        "\n",
        "r2 = r2_score(y_test, y_pred)\n",
        "print(f'R-squared (R^2): {r2}')"
      ],
      "metadata": {
        "colab": {
          "base_uri": "https://localhost:8080/"
        },
        "id": "Cv0Fbl1lQxcz",
        "outputId": "707b3a50-ce91-49a8-d812-2fbbc76de09c"
      },
      "execution_count": 12,
      "outputs": [
        {
          "output_type": "stream",
          "name": "stdout",
          "text": [
            "Test Loss: 318504928.0\n",
            "135/135 [==============================] - 1s 6ms/step\n",
            "Mean Squared Error (MSE): 318504944.5007661\n",
            "Root Mean Squared Error (RMSE): 17846.70682509146\n",
            "Mean Absolute Error (MAE): 6347.199897144459\n",
            "R-squared (R^2): 0.15631425310685443\n"
          ]
        }
      ]
    }
  ]
}
