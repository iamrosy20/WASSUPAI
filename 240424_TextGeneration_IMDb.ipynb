{
  "nbformat": 4,
  "nbformat_minor": 0,
  "metadata": {
    "colab": {
      "provenance": [],
      "authorship_tag": "ABX9TyMdGmk4NbGWoqpLLWzwI2vL"
    },
    "kernelspec": {
      "name": "python3",
      "display_name": "Python 3"
    },
    "language_info": {
      "name": "python"
    }
  },
  "cells": [
    {
      "cell_type": "markdown",
      "source": [
        "영화 리뷰의 마지막 단어를 예측"
      ],
      "metadata": {
        "id": "vhjPOr60Kgcf"
      }
    },
    {
      "cell_type": "code",
      "execution_count": 2,
      "metadata": {
        "id": "14a3KQ7zz2Ps"
      },
      "outputs": [],
      "source": [
        "from tensorflow.keras.datasets import imdb\n",
        "from tensorflow.keras.preprocessing.sequence import pad_sequences\n",
        "from tensorflow.keras.models import Sequential\n",
        "from tensorflow.keras.layers import Embedding, LSTM, Dense"
      ]
    },
    {
      "cell_type": "code",
      "source": [
        "max_features = 10000    # max number of words\n",
        "maxlen = 100            # max length of each sentence"
      ],
      "metadata": {
        "id": "PxoDoHi-Kuqx"
      },
      "execution_count": 3,
      "outputs": []
    },
    {
      "cell_type": "code",
      "source": [
        "# Load IMDb dataset\n",
        "(x_train, y_train), (x_test, y_test) = imdb.load_data(num_words=max_features)"
      ],
      "metadata": {
        "colab": {
          "base_uri": "https://localhost:8080/"
        },
        "id": "3SJ_jzMrLnto",
        "outputId": "f3ca1d7d-b00d-4526-fd82-4975f902f7c0"
      },
      "execution_count": 4,
      "outputs": [
        {
          "output_type": "stream",
          "name": "stdout",
          "text": [
            "Downloading data from https://storage.googleapis.com/tensorflow/tf-keras-datasets/imdb.npz\n",
            "17464789/17464789 [==============================] - 0s 0us/step\n"
          ]
        }
      ]
    },
    {
      "cell_type": "code",
      "source": [
        "# Sequence padding\n",
        "x_train = pad_sequences(x_train, maxlen=maxlen)\n",
        "x_test = pad_sequences(x_test, maxlen=maxlen)"
      ],
      "metadata": {
        "id": "Al6PFRefKuol"
      },
      "execution_count": 5,
      "outputs": []
    },
    {
      "cell_type": "code",
      "source": [
        "# Define sequence data\n",
        "X = x_train[:, :-1]\n",
        "y = x_train[:, -1]      # target variable: final word\n",
        "X_test = x_test[:, :-1]\n",
        "y_test = x_test[:, -1]  # target variable: final word"
      ],
      "metadata": {
        "id": "F3N4DevtMjnx"
      },
      "execution_count": 6,
      "outputs": []
    },
    {
      "cell_type": "code",
      "source": [
        "# Map each word into integer\n",
        "word_index = imdb.get_word_index()"
      ],
      "metadata": {
        "colab": {
          "base_uri": "https://localhost:8080/"
        },
        "id": "0P_Mlpc1M4yZ",
        "outputId": "f55f8f8b-1938-41d1-cd4c-84f0d20c2fdc"
      },
      "execution_count": 7,
      "outputs": [
        {
          "output_type": "stream",
          "name": "stdout",
          "text": [
            "Downloading data from https://storage.googleapis.com/tensorflow/tf-keras-datasets/imdb_word_index.json\n",
            "1641221/1641221 [==============================] - 0s 0us/step\n"
          ]
        }
      ]
    },
    {
      "cell_type": "code",
      "source": [
        "# Inverse mapping from integer to word\n",
        "reverse_word_index = dict([(value+3, key) for (key, value) in word_index.items()])\n",
        "reverse_word_index[0] = '<PAD>'\n",
        "reverse_word_index[1] = '<START>'\n",
        "reverse_word_index[2] = '<UNK>'\n",
        "reverse_word_index[3] = '<UNUSED>'"
      ],
      "metadata": {
        "id": "LYE_bvvhNCFo"
      },
      "execution_count": 8,
      "outputs": []
    },
    {
      "cell_type": "code",
      "source": [
        "# Decode first review\n",
        "decoded_review = ' '.join([reverse_word_index.get(i, '?') for i in X[0]])\n",
        "print(decoded_review)"
      ],
      "metadata": {
        "colab": {
          "base_uri": "https://localhost:8080/"
        },
        "id": "RdwAZWssONz5",
        "outputId": "a074a3d6-345d-4812-9d1e-1f1c8a7dd8ce"
      },
      "execution_count": 11,
      "outputs": [
        {
          "output_type": "stream",
          "name": "stdout",
          "text": [
            "cry at a film it must have been good and this definitely was also <UNK> to the two little boy's that played the <UNK> of norman and paul they were just brilliant children are often left out of the <UNK> list i think because the stars that play them all grown up are such a big profile for the whole film but these children are amazing and should be praised for what they have done don't you think the whole story was so lovely because it was true and was someone's life after all that was shared with us\n"
          ]
        }
      ]
    },
    {
      "cell_type": "code",
      "source": [
        "# Build a model\n",
        "model = Sequential()\n",
        "model.add(Embedding(max_features, 128))\n",
        "model.add(LSTM(128, return_sequences=False))\n",
        "model.add(Dense(max_features, activation='softmax'))"
      ],
      "metadata": {
        "id": "XOhJhNYZL9k1"
      },
      "execution_count": 12,
      "outputs": []
    },
    {
      "cell_type": "code",
      "source": [
        "# Compile the model\n",
        "model.compile(loss='sparse_categorical_crossentropy', optimizer='adam', metrics=['accuracy'])"
      ],
      "metadata": {
        "id": "Mx_1tTNyMKH1"
      },
      "execution_count": 13,
      "outputs": []
    },
    {
      "cell_type": "code",
      "source": [
        "# Fit the model\n",
        "model.fit(X, y, batch_size=128, epochs=10, validation_split=0.2)"
      ],
      "metadata": {
        "colab": {
          "base_uri": "https://localhost:8080/"
        },
        "id": "QR31bLJQNddl",
        "outputId": "12ba35ff-ce55-44e9-e970-44a4422ec69d"
      },
      "execution_count": 14,
      "outputs": [
        {
          "output_type": "stream",
          "name": "stdout",
          "text": [
            "Epoch 1/10\n",
            "157/157 [==============================] - 83s 516ms/step - loss: 7.1334 - accuracy: 0.0808 - val_loss: 6.5943 - val_accuracy: 0.1282\n",
            "Epoch 2/10\n",
            "157/157 [==============================] - 77s 490ms/step - loss: 6.3216 - accuracy: 0.1120 - val_loss: 6.5476 - val_accuracy: 0.1286\n",
            "Epoch 3/10\n",
            "157/157 [==============================] - 78s 499ms/step - loss: 6.1684 - accuracy: 0.1265 - val_loss: 6.5143 - val_accuracy: 0.1500\n",
            "Epoch 4/10\n",
            "157/157 [==============================] - 77s 491ms/step - loss: 6.0377 - accuracy: 0.1498 - val_loss: 6.4560 - val_accuracy: 0.1630\n",
            "Epoch 5/10\n",
            "157/157 [==============================] - 79s 501ms/step - loss: 5.8901 - accuracy: 0.1751 - val_loss: 6.3890 - val_accuracy: 0.1822\n",
            "Epoch 6/10\n",
            "157/157 [==============================] - 80s 508ms/step - loss: 5.7415 - accuracy: 0.1819 - val_loss: 6.3346 - val_accuracy: 0.1846\n",
            "Epoch 7/10\n",
            "157/157 [==============================] - 77s 489ms/step - loss: 5.5880 - accuracy: 0.1896 - val_loss: 6.2926 - val_accuracy: 0.1916\n",
            "Epoch 8/10\n",
            "157/157 [==============================] - 79s 504ms/step - loss: 5.4245 - accuracy: 0.2001 - val_loss: 6.2534 - val_accuracy: 0.1932\n",
            "Epoch 9/10\n",
            "157/157 [==============================] - 82s 524ms/step - loss: 5.2625 - accuracy: 0.2090 - val_loss: 6.2389 - val_accuracy: 0.1978\n",
            "Epoch 10/10\n",
            "157/157 [==============================] - 82s 520ms/step - loss: 5.1003 - accuracy: 0.2184 - val_loss: 6.2417 - val_accuracy: 0.2016\n"
          ]
        },
        {
          "output_type": "execute_result",
          "data": {
            "text/plain": [
              "<keras.src.callbacks.History at 0x7f1f496a08e0>"
            ]
          },
          "metadata": {},
          "execution_count": 14
        }
      ]
    },
    {
      "cell_type": "code",
      "source": [
        "# Evaluate the model\n",
        "test_loss, test_acc = model.evaluate(X_test, y_test, verbose=2)\n",
        "print(f'Test loss: {test_loss:.4f}')\n",
        "print(f'Test accuracy: {test_acc:.4f}')"
      ],
      "metadata": {
        "colab": {
          "base_uri": "https://localhost:8080/"
        },
        "id": "J83UwW_pNpQD",
        "outputId": "799cb369-c189-4e6b-b176-1b09ce8754df"
      },
      "execution_count": 15,
      "outputs": [
        {
          "output_type": "stream",
          "name": "stdout",
          "text": [
            "782/782 - 48s - loss: 6.2826 - accuracy: 0.1970 - 48s/epoch - 61ms/step\n",
            "Test loss: 6.2826\n",
            "Test accuracy: 0.1970\n"
          ]
        }
      ]
    }
  ]
}