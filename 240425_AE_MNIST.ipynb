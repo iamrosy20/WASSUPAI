{
  "nbformat": 4,
  "nbformat_minor": 0,
  "metadata": {
    "colab": {
      "provenance": [],
      "authorship_tag": "ABX9TyO9WhByJiIllFDv5gsUftnN"
    },
    "kernelspec": {
      "name": "python3",
      "display_name": "Python 3"
    },
    "language_info": {
      "name": "python"
    }
  },
  "cells": [
    {
      "cell_type": "code",
      "execution_count": 1,
      "metadata": {
        "id": "Ci6IgkdBPRSA"
      },
      "outputs": [],
      "source": [
        "from tensorflow.keras.datasets import mnist\n",
        "from tensorflow.keras.layers import Input, Dense\n",
        "from tensorflow.keras.models import Model\n",
        "from tensorflow.keras.optimizers import Adam\n",
        "import matplotlib.pyplot as plt"
      ]
    },
    {
      "cell_type": "markdown",
      "source": [
        "### **Reconstructing by autoencoder**"
      ],
      "metadata": {
        "id": "q6le2bgsTi1c"
      }
    },
    {
      "cell_type": "code",
      "source": [
        "# Load dataset\n",
        "(x_train, y_train), (x_test, y_test) = mnist.load_data()"
      ],
      "metadata": {
        "colab": {
          "base_uri": "https://localhost:8080/"
        },
        "id": "GLoJM4C9PrxG",
        "outputId": "1d2d7934-cc6d-4346-a1d3-29d8ebf0d7c9"
      },
      "execution_count": 2,
      "outputs": [
        {
          "output_type": "stream",
          "name": "stdout",
          "text": [
            "Downloading data from https://storage.googleapis.com/tensorflow/tf-keras-datasets/mnist.npz\n",
            "11490434/11490434 [==============================] - 0s 0us/step\n"
          ]
        }
      ]
    },
    {
      "cell_type": "code",
      "source": [
        "# Input scaling\n",
        "x_train_scaled = x_train.astype('float32') / 255\n",
        "x_test_scaled = x_test.astype('float32') / 255"
      ],
      "metadata": {
        "id": "EahrVVYlPx3M"
      },
      "execution_count": 3,
      "outputs": []
    },
    {
      "cell_type": "code",
      "source": [
        "# Reshape input\n",
        "x_train = x_train_scaled.reshape((60000, 28*28))\n",
        "x_test = x_test_scaled.reshape((10000, 28*28))"
      ],
      "metadata": {
        "id": "kM3X9utLQBxi"
      },
      "execution_count": 4,
      "outputs": []
    },
    {
      "cell_type": "code",
      "source": [
        "# Build autoencoder\n",
        "input_size = 784    # dimension of input vector (28 * 28)\n",
        "hidden_size = 128\n",
        "code_size = 32      # dimension of latent vector\n",
        "\n",
        "input_img = Input(shape=(input_size,))                          # input layer\n",
        "hidden_1 = Dense(hidden_size, activation='relu')(input_img)     # encoding\n",
        "code = Dense(code_size, activation='relu')(hidden_1)            # latent space\n",
        "hidden_2 = Dense(hidden_size, activation='relu')(code)          # decoding\n",
        "output_img = Dense(input_size, activation='sigmoid')(hidden_2)  # output layer\n",
        "\n",
        "autoencoder = Model(input_img, output_img)"
      ],
      "metadata": {
        "id": "01rjopjwQD6F"
      },
      "execution_count": 5,
      "outputs": []
    },
    {
      "cell_type": "code",
      "source": [
        "# Compile\n",
        "autoencoder.compile(optimizer='adam', loss='mse')"
      ],
      "metadata": {
        "id": "cQreq695Q3IA"
      },
      "execution_count": 6,
      "outputs": []
    },
    {
      "cell_type": "code",
      "source": [
        "# Fit the model\n",
        "autoencoder.fit(x_train, x_train, epochs=5)"
      ],
      "metadata": {
        "colab": {
          "base_uri": "https://localhost:8080/"
        },
        "id": "FaVJGlufQ7TH",
        "outputId": "c4c0c88b-9e47-422c-a8e8-aac0dfebff33"
      },
      "execution_count": 7,
      "outputs": [
        {
          "output_type": "stream",
          "name": "stdout",
          "text": [
            "Epoch 1/5\n",
            "1875/1875 [==============================] - 15s 7ms/step - loss: 0.0261\n",
            "Epoch 2/5\n",
            "1875/1875 [==============================] - 19s 10ms/step - loss: 0.0133\n",
            "Epoch 3/5\n",
            "1875/1875 [==============================] - 24s 13ms/step - loss: 0.0117\n",
            "Epoch 4/5\n",
            "1875/1875 [==============================] - 16s 9ms/step - loss: 0.0107\n",
            "Epoch 5/5\n",
            "1875/1875 [==============================] - 17s 9ms/step - loss: 0.0101\n"
          ]
        },
        {
          "output_type": "execute_result",
          "data": {
            "text/plain": [
              "<keras.src.callbacks.History at 0x79a7dc992c20>"
            ]
          },
          "metadata": {},
          "execution_count": 7
        }
      ]
    },
    {
      "cell_type": "code",
      "source": [
        "# Evaluate the model\n",
        "test_mse = autoencoder.evaluate(x_test, x_test)\n",
        "print(f'Test MSE: {test_mse:.8f}')"
      ],
      "metadata": {
        "colab": {
          "base_uri": "https://localhost:8080/"
        },
        "id": "FP5idMHqRGEV",
        "outputId": "20802c5b-7334-40b2-8c0a-3cd2e3255608"
      },
      "execution_count": 8,
      "outputs": [
        {
          "output_type": "stream",
          "name": "stdout",
          "text": [
            "313/313 [==============================] - 1s 3ms/step - loss: 0.0096\n",
            "Test MSE: 0.00958692\n"
          ]
        }
      ]
    },
    {
      "cell_type": "code",
      "source": [
        "# Predict image\n",
        "decoded_imgs = autoencoder.predict(x_test)\n",
        "decoded_imgs = decoded_imgs.reshape((10000, 28, 28))"
      ],
      "metadata": {
        "colab": {
          "base_uri": "https://localhost:8080/"
        },
        "id": "_PaPH3ZYSQmZ",
        "outputId": "c36f3d79-ab7f-4527-f6b4-bdf7dcf6b8cd"
      },
      "execution_count": 9,
      "outputs": [
        {
          "output_type": "stream",
          "name": "stdout",
          "text": [
            "313/313 [==============================] - 1s 3ms/step\n"
          ]
        }
      ]
    },
    {
      "cell_type": "code",
      "source": [
        "# Compare original image and predicted image\n",
        "n = 10\n",
        "plt.figure(figsize=(20, 4))\n",
        "for i in range(n):\n",
        "    # original image\n",
        "    ax = plt.subplot(2, n, i+1)\n",
        "    plt.imshow(x_test_scaled[i])\n",
        "    plt.title('original')\n",
        "    plt.gray()\n",
        "    ax.get_xaxis().set_visible(False)\n",
        "    ax.get_yaxis().set_visible(False)\n",
        "\n",
        "    # decoded image\n",
        "    ax = plt.subplot(2, n, i+1+n)\n",
        "    plt.imshow(decoded_imgs[i])\n",
        "    plt.title('reconstructed')\n",
        "    plt.gray()\n",
        "    ax.get_xaxis().set_visible(False)\n",
        "    ax.get_yaxis().set_visible(False)\n",
        "plt.show()"
      ],
      "metadata": {
        "colab": {
          "base_uri": "https://localhost:8080/",
          "height": 268
        },
        "id": "amrxJUVqSc5N",
        "outputId": "6d77856a-dd7e-493e-d630-79d1c404a318"
      },
      "execution_count": 10,
      "outputs": [
        {
          "output_type": "display_data",
          "data": {
            "text/plain": [
              "<Figure size 2000x400 with 20 Axes>"
            ],
            "image/png": "[encoded data removed]"
          },
          "metadata": {}
        }
      ]
    },
    {
      "cell_type": "markdown",
      "source": [
        "### **Classification by representation vector**"
      ],
      "metadata": {
        "id": "1_SqM-BmTXfY"
      }
    },
    {
      "cell_type": "code",
      "source": [
        "from tensorflow.keras.models import Sequential\n",
        "from tensorflow.keras.utils import to_categorical\n",
        "from tensorflow.keras.optimizers import RMSprop\n",
        "import numpy as np"
      ],
      "metadata": {
        "id": "-nCks1UoUSuM"
      },
      "execution_count": 11,
      "outputs": []
    },
    {
      "cell_type": "code",
      "source": [
        "# Use only encoder\n",
        "encoder = Model(inputs=input_img, outputs=code)"
      ],
      "metadata": {
        "id": "y-W-q5VmTa5B"
      },
      "execution_count": 12,
      "outputs": []
    },
    {
      "cell_type": "code",
      "source": [
        "# Create low dimensional vector\n",
        "x_train_encode = encoder.predict(x_train)\n",
        "x_test_encode = encoder.predict(x_test)"
      ],
      "metadata": {
        "colab": {
          "base_uri": "https://localhost:8080/"
        },
        "id": "u17CtJYuTnvD",
        "outputId": "2583da07-e9c1-4b28-ea34-05591c4eeac7"
      },
      "execution_count": 13,
      "outputs": [
        {
          "output_type": "stream",
          "name": "stdout",
          "text": [
            "1875/1875 [==============================] - 3s 2ms/step\n",
            "313/313 [==============================] - 1s 2ms/step\n"
          ]
        }
      ]
    },
    {
      "cell_type": "code",
      "source": [
        "# One-hot encoding\n",
        "y_train_one_hot = to_categorical(y_train)\n",
        "y_test_one_hot = to_categorical(y_test)"
      ],
      "metadata": {
        "id": "h-siWTXKUXTJ"
      },
      "execution_count": 14,
      "outputs": []
    },
    {
      "cell_type": "code",
      "source": [
        "# Build a classification model\n",
        "model = Sequential()\n",
        "model.add(Dense(128, activation='relu', input_shape=(x_train_encode.shape[1],)))\n",
        "model.add(Dense(10, activation='softmax'))"
      ],
      "metadata": {
        "id": "EgE2eyXMT0H1"
      },
      "execution_count": 15,
      "outputs": []
    },
    {
      "cell_type": "code",
      "source": [
        "# Compile\n",
        "model.compile(optimizer=RMSprop(learning_rate=0.001), loss='categorical_crossentropy', metrics=['accuracy'])"
      ],
      "metadata": {
        "id": "mPFG6mAXUi0t"
      },
      "execution_count": 16,
      "outputs": []
    },
    {
      "cell_type": "code",
      "source": [
        "# Fit the model\n",
        "history = model.fit(x_train_encode, y_train_one_hot, epochs=20, batch_size=128, validation_split=0.2)"
      ],
      "metadata": {
        "colab": {
          "base_uri": "https://localhost:8080/"
        },
        "id": "3vlG6q8oUqTe",
        "outputId": "c8734004-c194-48e6-ce16-9926aa5d6c67"
      },
      "execution_count": 17,
      "outputs": [
        {
          "output_type": "stream",
          "name": "stdout",
          "text": [
            "Epoch 1/20\n",
            "375/375 [==============================] - 2s 3ms/step - loss: 0.7236 - accuracy: 0.7836 - val_loss: 0.3519 - val_accuracy: 0.8939\n",
            "Epoch 2/20\n",
            "375/375 [==============================] - 1s 2ms/step - loss: 0.3378 - accuracy: 0.8950 - val_loss: 0.3044 - val_accuracy: 0.9042\n",
            "Epoch 3/20\n",
            "375/375 [==============================] - 1s 3ms/step - loss: 0.2782 - accuracy: 0.9150 - val_loss: 0.2276 - val_accuracy: 0.9317\n",
            "Epoch 4/20\n",
            "375/375 [==============================] - 2s 6ms/step - loss: 0.2350 - accuracy: 0.9269 - val_loss: 0.2036 - val_accuracy: 0.9393\n",
            "Epoch 5/20\n",
            "375/375 [==============================] - 2s 4ms/step - loss: 0.2060 - accuracy: 0.9369 - val_loss: 0.1809 - val_accuracy: 0.9463\n",
            "Epoch 6/20\n",
            "375/375 [==============================] - 1s 3ms/step - loss: 0.1860 - accuracy: 0.9433 - val_loss: 0.1792 - val_accuracy: 0.9472\n",
            "Epoch 7/20\n",
            "375/375 [==============================] - 1s 3ms/step - loss: 0.1699 - accuracy: 0.9486 - val_loss: 0.1535 - val_accuracy: 0.9542\n",
            "Epoch 8/20\n",
            "375/375 [==============================] - 1s 2ms/step - loss: 0.1577 - accuracy: 0.9528 - val_loss: 0.1443 - val_accuracy: 0.9582\n",
            "Epoch 9/20\n",
            "375/375 [==============================] - 1s 2ms/step - loss: 0.1470 - accuracy: 0.9555 - val_loss: 0.1551 - val_accuracy: 0.9538\n",
            "Epoch 10/20\n",
            "375/375 [==============================] - 1s 2ms/step - loss: 0.1385 - accuracy: 0.9582 - val_loss: 0.1396 - val_accuracy: 0.9590\n",
            "Epoch 11/20\n",
            "375/375 [==============================] - 1s 2ms/step - loss: 0.1305 - accuracy: 0.9603 - val_loss: 0.1398 - val_accuracy: 0.9581\n",
            "Epoch 12/20\n",
            "375/375 [==============================] - 1s 2ms/step - loss: 0.1237 - accuracy: 0.9623 - val_loss: 0.1434 - val_accuracy: 0.9549\n",
            "Epoch 13/20\n",
            "375/375 [==============================] - 2s 4ms/step - loss: 0.1183 - accuracy: 0.9636 - val_loss: 0.1221 - val_accuracy: 0.9641\n",
            "Epoch 14/20\n",
            "375/375 [==============================] - 4s 12ms/step - loss: 0.1133 - accuracy: 0.9655 - val_loss: 0.1345 - val_accuracy: 0.9588\n",
            "Epoch 15/20\n",
            "375/375 [==============================] - 2s 6ms/step - loss: 0.1093 - accuracy: 0.9663 - val_loss: 0.1391 - val_accuracy: 0.9593\n",
            "Epoch 16/20\n",
            "375/375 [==============================] - 2s 5ms/step - loss: 0.1039 - accuracy: 0.9676 - val_loss: 0.1246 - val_accuracy: 0.9623\n",
            "Epoch 17/20\n",
            "375/375 [==============================] - 2s 6ms/step - loss: 0.1021 - accuracy: 0.9689 - val_loss: 0.1250 - val_accuracy: 0.9638\n",
            "Epoch 18/20\n",
            "375/375 [==============================] - 1s 2ms/step - loss: 0.0991 - accuracy: 0.9693 - val_loss: 0.1164 - val_accuracy: 0.9660\n",
            "Epoch 19/20\n",
            "375/375 [==============================] - 2s 5ms/step - loss: 0.0961 - accuracy: 0.9706 - val_loss: 0.1171 - val_accuracy: 0.9660\n",
            "Epoch 20/20\n",
            "375/375 [==============================] - 3s 7ms/step - loss: 0.0936 - accuracy: 0.9716 - val_loss: 0.1170 - val_accuracy: 0.9638\n"
          ]
        }
      ]
    },
    {
      "cell_type": "code",
      "source": [
        "# Evaluate the model\n",
        "test_loss, test_acc = model.evaluate(x_test_encode, y_test_one_hot)\n",
        "print(f'Test loss: {test_loss:.4f}')\n",
        "print(f'Test accuracy: {test_acc:.4f}')"
      ],
      "metadata": {
        "colab": {
          "base_uri": "https://localhost:8080/"
        },
        "id": "RBllvq_7UysJ",
        "outputId": "3742900b-9257-4ace-bb43-99ef863916dd"
      },
      "execution_count": 18,
      "outputs": [
        {
          "output_type": "stream",
          "name": "stdout",
          "text": [
            "313/313 [==============================] - 1s 2ms/step - loss: 0.1119 - accuracy: 0.9648\n",
            "Test loss: 0.1119\n",
            "Test accuracy: 0.9648\n"
          ]
        }
      ]
    },
    {
      "cell_type": "code",
      "source": [
        "# Compare the true value and predicted value\n",
        "# true value\n",
        "plt.imshow(x_test_scaled[0], cmap='gray')\n",
        "plt.show()\n",
        "print('True value:', y_test[0])\n",
        "\n",
        "# predicted value\n",
        "np.set_printoptions(suppress=True, precision=10)\n",
        "prediction = model.predict(x_test_encode[0:1])\n",
        "labels = [0, 1, 2, 3, 4, 5, 6, 7, 8, 9]\n",
        "print('Predicted value:', labels[np.argmax(prediction)])"
      ],
      "metadata": {
        "colab": {
          "base_uri": "https://localhost:8080/",
          "height": 486
        },
        "id": "zvvkNraTVLtC",
        "outputId": "a5e4d746-722e-4fda-e3bb-5eeec52ec1e7"
      },
      "execution_count": 23,
      "outputs": [
        {
          "output_type": "display_data",
          "data": {
            "text/plain": [
              "<Figure size 640x480 with 1 Axes>"
            ],
            "image/png": "[encoded data removed]"
          },
          "metadata": {}
        },
        {
          "output_type": "stream",
          "name": "stdout",
          "text": [
            "True value: 7\n",
            "1/1 [==============================] - 0s 30ms/step\n",
            "Predicted value: 7\n"
          ]
        }
      ]
    }
  ]
}