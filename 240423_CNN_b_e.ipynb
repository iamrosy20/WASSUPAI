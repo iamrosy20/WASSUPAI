{
  "nbformat": 4,
  "nbformat_minor": 0,
  "metadata": {
    "colab": {
      "provenance": [],
      "authorship_tag": "ABX9TyPkOE0lBmgcG6cbGOOZBfre"
    },
    "kernelspec": {
      "name": "python3",
      "display_name": "Python 3"
    },
    "language_info": {
      "name": "python"
    }
  },
  "cells": [
    {
      "cell_type": "code",
      "execution_count": 1,
      "metadata": {
        "id": "dgykn08ZcQCT"
      },
      "outputs": [],
      "source": [
        "import pandas as pd\n",
        "import os\n",
        "from tensorflow.keras.preprocessing import image\n",
        "import numpy as np\n",
        "from tensorflow.keras.utils import to_categorical\n",
        "from sklearn.model_selection import train_test_split\n",
        "from tensorflow.keras.models import Sequential\n",
        "from tensorflow.keras.layers import Conv2D, MaxPooling2D, Dropout, Flatten, Dense\n",
        "from tensorflow.keras.optimizers import RMSprop\n",
        "import matplotlib.pyplot as plt"
      ]
    },
    {
      "cell_type": "code",
      "source": [
        "from google.colab import drive\n",
        "drive.mount('/content/drive')"
      ],
      "metadata": {
        "colab": {
          "base_uri": "https://localhost:8080/"
        },
        "id": "Fouy13bMczJQ",
        "outputId": "7472dcb9-ddae-40b5-b8cc-b8419ee3ee25"
      },
      "execution_count": 2,
      "outputs": [
        {
          "output_type": "stream",
          "name": "stdout",
          "text": [
            "Mounted at /content/drive\n"
          ]
        }
      ]
    },
    {
      "cell_type": "code",
      "source": [
        "IMG_ROWS = 64\n",
        "IMG_COLS = 64\n",
        "IMG_CHANNELS = 3\n",
        "CLASSES = 2         # bicycle, electric bicycle"
      ],
      "metadata": {
        "id": "Z0PsHc-5cscD"
      },
      "execution_count": 3,
      "outputs": []
    },
    {
      "cell_type": "code",
      "source": [
        "# Read metadata file\n",
        "metadata_path = '/content/drive/MyDrive/Samples/image_labels.b.e.csv'\n",
        "metadata_df = pd.read_csv(metadata_path)"
      ],
      "metadata": {
        "id": "HXqdcQovmS3A"
      },
      "execution_count": null,
      "outputs": []
    },
    {
      "cell_type": "code",
      "source": [
        "# Load dataset\n",
        "b_file_paths = metadata_df['image_name'].apply(lambda x: os.path.join('/content/drive/MyDrive/Samples/crawling/b_bicycle', x))\n",
        "e_file_paths = metadata_df['image_name'].apply(lambda x: os.path.join('/content/drive/MyDrive/Samples/crawling/e_electric_bicycle', x))\n",
        "file_paths = np.concatenate((b_file_paths, e_file_paths))\n",
        "labels = metadata_df['class'].map({'e': 0, 'b': 1}).values\n",
        "\n",
        "image_vector = []\n",
        "label_vector = []\n",
        "\n",
        "for file_path, label in zip(file_paths, labels):\n",
        "    if not os.path.exists(file_path):\n",
        "        print(f'No file exists: {file_path}')\n",
        "        continue\n",
        "    try:\n",
        "        img = image.load_img(file_path, target_size=(IMG_ROWS, IMG_COLS))\n",
        "        img_array = image.img_to_array(img)\n",
        "        image_vector.append(img_array)\n",
        "        label_vector.append(label)\n",
        "    except Exception as e:\n",
        "        print(f'Error occured while loading image: {file_path}, Error: {e}')"
      ],
      "metadata": {
        "id": "WkCUUQeadSYj"
      },
      "execution_count": null,
      "outputs": []
    },
    {
      "cell_type": "code",
      "source": [
        "# Transform into numpy array\n",
        "image_vector = np.array(image_vector)\n",
        "label_vector = np.array(label_vector)"
      ],
      "metadata": {
        "id": "-wCg6QtXhAm1"
      },
      "execution_count": 6,
      "outputs": []
    },
    {
      "cell_type": "code",
      "source": [
        "# Normalize the image vector\n",
        "image_vector = image_vector / 255"
      ],
      "metadata": {
        "id": "i6FE5bhphjmB"
      },
      "execution_count": 7,
      "outputs": []
    },
    {
      "cell_type": "code",
      "source": [
        "# Convert to categorical label\n",
        "label_vector = to_categorical(label_vector, 2)"
      ],
      "metadata": {
        "id": "Sjf3n4--hmjH"
      },
      "execution_count": 8,
      "outputs": []
    },
    {
      "cell_type": "code",
      "source": [
        "# Split the dataset\n",
        "X_train, X_test, y_train, y_test = train_test_split(image_vector, label_vector, test_size=0.2, random_state=42)"
      ],
      "metadata": {
        "id": "armL34n-hMZL"
      },
      "execution_count": 9,
      "outputs": []
    },
    {
      "cell_type": "code",
      "source": [
        "print(X_train.shape)\n",
        "print(X_test.shape)\n",
        "print(y_train.shape)\n",
        "print(y_test.shape)"
      ],
      "metadata": {
        "colab": {
          "base_uri": "https://localhost:8080/"
        },
        "id": "JxGblkkshaFH",
        "outputId": "8bac5759-d346-41c7-c2ec-afda119caed5"
      },
      "execution_count": 10,
      "outputs": [
        {
          "output_type": "stream",
          "name": "stdout",
          "text": [
            "(129, 64, 64, 3)\n",
            "(33, 64, 64, 3)\n",
            "(129, 2)\n",
            "(33, 2)\n"
          ]
        }
      ]
    },
    {
      "cell_type": "code",
      "source": [
        "# Define a convnet\n",
        "def build_model(input_shape, classes):\n",
        "    model = Sequential()\n",
        "    model.add(Conv2D(32, (3, 3), activation='relu', input_shape=input_shape))\n",
        "    model.add(MaxPooling2D(pool_size=(2, 2)))\n",
        "    model.add(Dropout(0.25))\n",
        "    model.add(Flatten())\n",
        "    model.add(Dense(32, activation='relu'))\n",
        "    model.add(Dense(classes, activation='softmax'))\n",
        "    return model"
      ],
      "metadata": {
        "id": "cQoA9bJFc3zX"
      },
      "execution_count": 11,
      "outputs": []
    },
    {
      "cell_type": "code",
      "source": [
        "# Build a model\n",
        "model = build_model((IMG_ROWS, IMG_COLS, IMG_CHANNELS), CLASSES)\n",
        "model.summary()"
      ],
      "metadata": {
        "colab": {
          "base_uri": "https://localhost:8080/"
        },
        "id": "hexf-4NhdRBB",
        "outputId": "c99caafc-8740-4873-e498-f8131a91367f"
      },
      "execution_count": 12,
      "outputs": [
        {
          "output_type": "stream",
          "name": "stdout",
          "text": [
            "Model: \"sequential\"\n",
            "_________________________________________________________________\n",
            " Layer (type)                Output Shape              Param #   \n",
            "=================================================================\n",
            " conv2d (Conv2D)             (None, 62, 62, 32)        896       \n",
            "                                                                 \n",
            " max_pooling2d (MaxPooling2  (None, 31, 31, 32)        0         \n",
            " D)                                                              \n",
            "                                                                 \n",
            " dropout (Dropout)           (None, 31, 31, 32)        0         \n",
            "                                                                 \n",
            " flatten (Flatten)           (None, 30752)             0         \n",
            "                                                                 \n",
            " dense (Dense)               (None, 32)                984096    \n",
            "                                                                 \n",
            " dense_1 (Dense)             (None, 2)                 66        \n",
            "                                                                 \n",
            "=================================================================\n",
            "Total params: 985058 (3.76 MB)\n",
            "Trainable params: 985058 (3.76 MB)\n",
            "Non-trainable params: 0 (0.00 Byte)\n",
            "_________________________________________________________________\n"
          ]
        }
      ]
    },
    {
      "cell_type": "code",
      "source": [
        "# Compile\n",
        "model.compile(loss='binary_crossentropy', optimizer=RMSprop(learning_rate=0.001), metrics=['accuracy'])"
      ],
      "metadata": {
        "id": "HP-qnhbDiLAx"
      },
      "execution_count": 13,
      "outputs": []
    },
    {
      "cell_type": "code",
      "source": [
        "# Fit the model\n",
        "history = model.fit(X_train, y_train, batch_size=128, epochs=50, validation_split=0.1)"
      ],
      "metadata": {
        "colab": {
          "base_uri": "https://localhost:8080/"
        },
        "id": "EAjUKs00iVCI",
        "outputId": "2669031d-54ae-476d-98fb-dfe8bfa87b55"
      },
      "execution_count": 14,
      "outputs": [
        {
          "output_type": "stream",
          "name": "stdout",
          "text": [
            "Epoch 1/50\n",
            "1/1 [==============================] - 2s 2s/step - loss: 0.6812 - accuracy: 0.6466 - val_loss: 2.5716e-05 - val_accuracy: 1.0000\n",
            "Epoch 2/50\n",
            "1/1 [==============================] - 0s 433ms/step - loss: 3.4822e-05 - accuracy: 1.0000 - val_loss: 2.5373e-05 - val_accuracy: 1.0000\n",
            "Epoch 3/50\n",
            "1/1 [==============================] - 0s 421ms/step - loss: 3.6289e-05 - accuracy: 1.0000 - val_loss: 2.5009e-05 - val_accuracy: 1.0000\n",
            "Epoch 4/50\n",
            "1/1 [==============================] - 0s 416ms/step - loss: 3.5121e-05 - accuracy: 1.0000 - val_loss: 2.4645e-05 - val_accuracy: 1.0000\n",
            "Epoch 5/50\n",
            "1/1 [==============================] - 0s 383ms/step - loss: 3.5143e-05 - accuracy: 1.0000 - val_loss: 2.4274e-05 - val_accuracy: 1.0000\n",
            "Epoch 6/50\n",
            "1/1 [==============================] - 0s 387ms/step - loss: 3.4030e-05 - accuracy: 1.0000 - val_loss: 2.3906e-05 - val_accuracy: 1.0000\n",
            "Epoch 7/50\n",
            "1/1 [==============================] - 0s 415ms/step - loss: 3.5423e-05 - accuracy: 1.0000 - val_loss: 2.3523e-05 - val_accuracy: 1.0000\n",
            "Epoch 8/50\n",
            "1/1 [==============================] - 0s 386ms/step - loss: 3.2386e-05 - accuracy: 1.0000 - val_loss: 2.3159e-05 - val_accuracy: 1.0000\n",
            "Epoch 9/50\n",
            "1/1 [==============================] - 0s 396ms/step - loss: 3.1473e-05 - accuracy: 1.0000 - val_loss: 2.2798e-05 - val_accuracy: 1.0000\n",
            "Epoch 10/50\n",
            "1/1 [==============================] - 0s 400ms/step - loss: 3.2370e-05 - accuracy: 1.0000 - val_loss: 2.2421e-05 - val_accuracy: 1.0000\n",
            "Epoch 11/50\n",
            "1/1 [==============================] - 0s 460ms/step - loss: 3.3305e-05 - accuracy: 1.0000 - val_loss: 2.2028e-05 - val_accuracy: 1.0000\n",
            "Epoch 12/50\n",
            "1/1 [==============================] - 0s 475ms/step - loss: 3.0347e-05 - accuracy: 1.0000 - val_loss: 2.1659e-05 - val_accuracy: 1.0000\n",
            "Epoch 13/50\n",
            "1/1 [==============================] - 1s 608ms/step - loss: 3.1242e-05 - accuracy: 1.0000 - val_loss: 2.1276e-05 - val_accuracy: 1.0000\n",
            "Epoch 14/50\n",
            "1/1 [==============================] - 1s 845ms/step - loss: 2.9411e-05 - accuracy: 1.0000 - val_loss: 2.0908e-05 - val_accuracy: 1.0000\n",
            "Epoch 15/50\n",
            "1/1 [==============================] - 1s 1s/step - loss: 2.9451e-05 - accuracy: 1.0000 - val_loss: 2.0531e-05 - val_accuracy: 1.0000\n",
            "Epoch 16/50\n",
            "1/1 [==============================] - 1s 1s/step - loss: 2.8994e-05 - accuracy: 1.0000 - val_loss: 2.0150e-05 - val_accuracy: 1.0000\n",
            "Epoch 17/50\n",
            "1/1 [==============================] - 1s 805ms/step - loss: 3.0026e-05 - accuracy: 1.0000 - val_loss: 1.9758e-05 - val_accuracy: 1.0000\n",
            "Epoch 18/50\n",
            "1/1 [==============================] - 1s 888ms/step - loss: 2.7349e-05 - accuracy: 1.0000 - val_loss: 1.9389e-05 - val_accuracy: 1.0000\n",
            "Epoch 19/50\n",
            "1/1 [==============================] - 1s 557ms/step - loss: 2.7671e-05 - accuracy: 1.0000 - val_loss: 1.9015e-05 - val_accuracy: 1.0000\n",
            "Epoch 20/50\n",
            "1/1 [==============================] - 0s 482ms/step - loss: 2.7318e-05 - accuracy: 1.0000 - val_loss: 1.8642e-05 - val_accuracy: 1.0000\n",
            "Epoch 21/50\n",
            "1/1 [==============================] - 1s 588ms/step - loss: 2.6057e-05 - accuracy: 1.0000 - val_loss: 1.8277e-05 - val_accuracy: 1.0000\n",
            "Epoch 22/50\n",
            "1/1 [==============================] - 1s 760ms/step - loss: 2.6662e-05 - accuracy: 1.0000 - val_loss: 1.7899e-05 - val_accuracy: 1.0000\n",
            "Epoch 23/50\n",
            "1/1 [==============================] - 1s 509ms/step - loss: 2.5819e-05 - accuracy: 1.0000 - val_loss: 1.7529e-05 - val_accuracy: 1.0000\n",
            "Epoch 24/50\n",
            "1/1 [==============================] - 0s 346ms/step - loss: 2.7990e-05 - accuracy: 1.0000 - val_loss: 1.7129e-05 - val_accuracy: 1.0000\n",
            "Epoch 25/50\n",
            "1/1 [==============================] - 0s 347ms/step - loss: 2.4275e-05 - accuracy: 1.0000 - val_loss: 1.6772e-05 - val_accuracy: 1.0000\n",
            "Epoch 26/50\n",
            "1/1 [==============================] - 0s 365ms/step - loss: 2.4807e-05 - accuracy: 1.0000 - val_loss: 1.6408e-05 - val_accuracy: 1.0000\n",
            "Epoch 27/50\n",
            "1/1 [==============================] - 0s 396ms/step - loss: 2.3622e-05 - accuracy: 1.0000 - val_loss: 1.6057e-05 - val_accuracy: 1.0000\n",
            "Epoch 28/50\n",
            "1/1 [==============================] - 0s 391ms/step - loss: 2.3587e-05 - accuracy: 1.0000 - val_loss: 1.5702e-05 - val_accuracy: 1.0000\n",
            "Epoch 29/50\n",
            "1/1 [==============================] - 0s 403ms/step - loss: 2.4105e-05 - accuracy: 1.0000 - val_loss: 1.5337e-05 - val_accuracy: 1.0000\n",
            "Epoch 30/50\n",
            "1/1 [==============================] - 0s 401ms/step - loss: 2.0912e-05 - accuracy: 1.0000 - val_loss: 1.5013e-05 - val_accuracy: 1.0000\n",
            "Epoch 31/50\n",
            "1/1 [==============================] - 0s 407ms/step - loss: 2.2489e-05 - accuracy: 1.0000 - val_loss: 1.4667e-05 - val_accuracy: 1.0000\n",
            "Epoch 32/50\n",
            "1/1 [==============================] - 0s 348ms/step - loss: 2.1512e-05 - accuracy: 1.0000 - val_loss: 1.4330e-05 - val_accuracy: 1.0000\n",
            "Epoch 33/50\n",
            "1/1 [==============================] - 0s 347ms/step - loss: 2.0500e-05 - accuracy: 1.0000 - val_loss: 1.4009e-05 - val_accuracy: 1.0000\n",
            "Epoch 34/50\n",
            "1/1 [==============================] - 0s 354ms/step - loss: 2.0454e-05 - accuracy: 1.0000 - val_loss: 1.3684e-05 - val_accuracy: 1.0000\n",
            "Epoch 35/50\n",
            "1/1 [==============================] - 0s 392ms/step - loss: 2.0795e-05 - accuracy: 1.0000 - val_loss: 1.3355e-05 - val_accuracy: 1.0000\n",
            "Epoch 36/50\n",
            "1/1 [==============================] - 0s 375ms/step - loss: 2.0298e-05 - accuracy: 1.0000 - val_loss: 1.3029e-05 - val_accuracy: 1.0000\n",
            "Epoch 37/50\n",
            "1/1 [==============================] - 0s 408ms/step - loss: 1.8830e-05 - accuracy: 1.0000 - val_loss: 1.2724e-05 - val_accuracy: 1.0000\n",
            "Epoch 38/50\n",
            "1/1 [==============================] - 0s 391ms/step - loss: 1.8698e-05 - accuracy: 1.0000 - val_loss: 1.2421e-05 - val_accuracy: 1.0000\n",
            "Epoch 39/50\n",
            "1/1 [==============================] - 0s 416ms/step - loss: 1.8542e-05 - accuracy: 1.0000 - val_loss: 1.2121e-05 - val_accuracy: 1.0000\n",
            "Epoch 40/50\n",
            "1/1 [==============================] - 0s 401ms/step - loss: 1.8294e-05 - accuracy: 1.0000 - val_loss: 1.1823e-05 - val_accuracy: 1.0000\n",
            "Epoch 41/50\n",
            "1/1 [==============================] - 0s 388ms/step - loss: 1.6525e-05 - accuracy: 1.0000 - val_loss: 1.1548e-05 - val_accuracy: 1.0000\n",
            "Epoch 42/50\n",
            "1/1 [==============================] - 1s 631ms/step - loss: 1.8110e-05 - accuracy: 1.0000 - val_loss: 1.1252e-05 - val_accuracy: 1.0000\n",
            "Epoch 43/50\n",
            "1/1 [==============================] - 1s 653ms/step - loss: 1.6349e-05 - accuracy: 1.0000 - val_loss: 1.0980e-05 - val_accuracy: 1.0000\n",
            "Epoch 44/50\n",
            "1/1 [==============================] - 1s 638ms/step - loss: 1.6088e-05 - accuracy: 1.0000 - val_loss: 1.0711e-05 - val_accuracy: 1.0000\n",
            "Epoch 45/50\n",
            "1/1 [==============================] - 1s 627ms/step - loss: 1.5331e-05 - accuracy: 1.0000 - val_loss: 1.0452e-05 - val_accuracy: 1.0000\n",
            "Epoch 46/50\n",
            "1/1 [==============================] - 1s 600ms/step - loss: 1.6213e-05 - accuracy: 1.0000 - val_loss: 1.0181e-05 - val_accuracy: 1.0000\n",
            "Epoch 47/50\n",
            "1/1 [==============================] - 1s 596ms/step - loss: 1.4346e-05 - accuracy: 1.0000 - val_loss: 9.9390e-06 - val_accuracy: 1.0000\n",
            "Epoch 48/50\n",
            "1/1 [==============================] - 1s 629ms/step - loss: 1.4986e-05 - accuracy: 1.0000 - val_loss: 9.6853e-06 - val_accuracy: 1.0000\n",
            "Epoch 49/50\n",
            "1/1 [==============================] - 0s 436ms/step - loss: 1.4307e-05 - accuracy: 1.0000 - val_loss: 9.4445e-06 - val_accuracy: 1.0000\n",
            "Epoch 50/50\n",
            "1/1 [==============================] - 0s 337ms/step - loss: 1.3796e-05 - accuracy: 1.0000 - val_loss: 9.2106e-06 - val_accuracy: 1.0000\n"
          ]
        }
      ]
    },
    {
      "cell_type": "code",
      "source": [
        "# Visualize loss\n",
        "plt.plot(history.history['loss'])\n",
        "plt.plot(history.history['val_loss'])\n",
        "plt.xlabel('epoch')\n",
        "plt.ylabel('loss')\n",
        "plt.legend(['train', 'val'])\n",
        "plt.show()"
      ],
      "metadata": {
        "colab": {
          "base_uri": "https://localhost:8080/",
          "height": 449
        },
        "id": "5fU1iEiDimr1",
        "outputId": "1e3e03e8-793a-426b-e2a5-4d3a9fcc9917"
      },
      "execution_count": 15,
      "outputs": [
        {
          "output_type": "display_data",
          "data": {
            "text/plain": [
              "<Figure size 640x480 with 1 Axes>"
            ],
            "image/png": "[encoded data removed]"
          },
          "metadata": {}
        }
      ]
    },
    {
      "cell_type": "code",
      "source": [
        "# Visualize accuracy\n",
        "plt.plot(history.history['accuracy'])\n",
        "plt.plot(history.history['val_accuracy'])\n",
        "plt.xlabel('epoch')\n",
        "plt.ylabel('loss')\n",
        "plt.legend(['train', 'val'])\n",
        "plt.show()"
      ],
      "metadata": {
        "colab": {
          "base_uri": "https://localhost:8080/",
          "height": 449
        },
        "id": "ToNewwMOj0gk",
        "outputId": "8d4a3824-dfca-4b89-e440-7aa09536f611"
      },
      "execution_count": 16,
      "outputs": [
        {
          "output_type": "display_data",
          "data": {
            "text/plain": [
              "<Figure size 640x480 with 1 Axes>"
            ],
            "image/png": "[encoded data removed]"
          },
          "metadata": {}
        }
      ]
    },
    {
      "cell_type": "code",
      "source": [
        "# Evaluate the model\n",
        "test_loss, test_acc = model.evaluate(X_test, y_test)\n",
        "print(f'Test loss: {test_loss:.4f}')\n",
        "print(f'Test accuracy: {test_acc:.4f}')"
      ],
      "metadata": {
        "colab": {
          "base_uri": "https://localhost:8080/"
        },
        "id": "2PRonBMQj-7x",
        "outputId": "8d72c66a-0d91-494f-c16d-83c7ae94efbd"
      },
      "execution_count": 17,
      "outputs": [
        {
          "output_type": "stream",
          "name": "stdout",
          "text": [
            "2/2 [==============================] - 0s 14ms/step - loss: 1.8608e-06 - accuracy: 1.0000\n",
            "Test loss: 0.0000\n",
            "Test accuracy: 1.0000\n"
          ]
        }
      ]
    }
  ]
}